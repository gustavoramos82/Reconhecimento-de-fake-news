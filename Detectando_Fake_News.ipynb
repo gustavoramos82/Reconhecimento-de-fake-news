{
  "nbformat": 4,
  "nbformat_minor": 0,
  "metadata": {
    "colab": {
      "name": "Detectando Fake News.ipynb",
      "provenance": [],
      "mount_file_id": "1eLAMM6vfPLHwD6ymNqG4OaWDAKqHtthJ",
      "authorship_tag": "ABX9TyO0Vrs7cqKcyCX3sr9oKWDR",
      "include_colab_link": true
    },
    "kernelspec": {
      "name": "python3",
      "display_name": "Python 3"
    },
    "language_info": {
      "name": "python"
    }
  },
  "cells": [
    {
      "cell_type": "markdown",
      "metadata": {
        "id": "view-in-github",
        "colab_type": "text"
      },
      "source": [
        "<a href=\"https://colab.research.google.com/github/gustavoramos82/Reconhecimento-de-fake-news/blob/main/Detectando_Fake_News.ipynb\" target=\"_parent\"><img src=\"https://colab.research.google.com/assets/colab-badge.svg\" alt=\"Open In Colab\"/></a>"
      ]
    },
    {
      "cell_type": "markdown",
      "source": [
        "# Detecção de Fake News\n",
        "\n",
        "Neste projeto, será feito um projeto de nlp, a partir de um dataset obtido no kaggle (que pode ser obtido [aqui](https://www.kaggle.com/datasets/ronikdedhia/fake-news)) em que será montado algoritmos de machine learning para prever se o texto é fake ou não. Será feita visualizações, no que for possivel, tratamento dos dados, modelagem e comparação das métricas."
      ],
      "metadata": {
        "id": "kNJP6bPtz0q0"
      }
    },
    {
      "cell_type": "code",
      "source": [
        "!pip install catboost"
      ],
      "metadata": {
        "colab": {
          "base_uri": "https://localhost:8080/"
        },
        "id": "KGKV5aqQGjvf",
        "outputId": "db8ac137-c329-4ef6-ba7f-65c38f489748"
      },
      "execution_count": 1,
      "outputs": [
        {
          "output_type": "stream",
          "name": "stdout",
          "text": [
            "Looking in indexes: https://pypi.org/simple, https://us-python.pkg.dev/colab-wheels/public/simple/\n",
            "Collecting catboost\n",
            "  Downloading catboost-1.0.6-cp37-none-manylinux1_x86_64.whl (76.6 MB)\n",
            "\u001b[K     |████████████████████████████████| 76.6 MB 72 kB/s \n",
            "\u001b[?25hRequirement already satisfied: six in /usr/local/lib/python3.7/dist-packages (from catboost) (1.15.0)\n",
            "Requirement already satisfied: graphviz in /usr/local/lib/python3.7/dist-packages (from catboost) (0.10.1)\n",
            "Requirement already satisfied: numpy>=1.16.0 in /usr/local/lib/python3.7/dist-packages (from catboost) (1.21.6)\n",
            "Requirement already satisfied: scipy in /usr/local/lib/python3.7/dist-packages (from catboost) (1.7.3)\n",
            "Requirement already satisfied: pandas>=0.24.0 in /usr/local/lib/python3.7/dist-packages (from catboost) (1.3.5)\n",
            "Requirement already satisfied: matplotlib in /usr/local/lib/python3.7/dist-packages (from catboost) (3.2.2)\n",
            "Requirement already satisfied: plotly in /usr/local/lib/python3.7/dist-packages (from catboost) (5.5.0)\n",
            "Requirement already satisfied: python-dateutil>=2.7.3 in /usr/local/lib/python3.7/dist-packages (from pandas>=0.24.0->catboost) (2.8.2)\n",
            "Requirement already satisfied: pytz>=2017.3 in /usr/local/lib/python3.7/dist-packages (from pandas>=0.24.0->catboost) (2022.2.1)\n",
            "Requirement already satisfied: cycler>=0.10 in /usr/local/lib/python3.7/dist-packages (from matplotlib->catboost) (0.11.0)\n",
            "Requirement already satisfied: kiwisolver>=1.0.1 in /usr/local/lib/python3.7/dist-packages (from matplotlib->catboost) (1.4.4)\n",
            "Requirement already satisfied: pyparsing!=2.0.4,!=2.1.2,!=2.1.6,>=2.0.1 in /usr/local/lib/python3.7/dist-packages (from matplotlib->catboost) (3.0.9)\n",
            "Requirement already satisfied: typing-extensions in /usr/local/lib/python3.7/dist-packages (from kiwisolver>=1.0.1->matplotlib->catboost) (4.1.1)\n",
            "Requirement already satisfied: tenacity>=6.2.0 in /usr/local/lib/python3.7/dist-packages (from plotly->catboost) (8.0.1)\n",
            "Installing collected packages: catboost\n",
            "Successfully installed catboost-1.0.6\n"
          ]
        }
      ]
    },
    {
      "cell_type": "code",
      "execution_count": 87,
      "metadata": {
        "id": "iSGPmXW6zOPy"
      },
      "outputs": [],
      "source": [
        "# Importando as bibliotecas\n",
        "import numpy as np\n",
        "import pandas as pd\n",
        "import matplotlib.pyplot as plt\n",
        "import seaborn as sns\n",
        "import re\n",
        "import nltk\n",
        "from nltk.corpus import stopwords\n",
        "from nltk.tokenize import RegexpTokenizer\n",
        "from nltk.stem import WordNetLemmatizer\n",
        "from sklearn.feature_extraction.text import CountVectorizer\n",
        "from sklearn.model_selection import train_test_split, GridSearchCV\n",
        "from sklearn.linear_model import LogisticRegression, Perceptron, RidgeClassifier\n",
        "from sklearn.naive_bayes import MultinomialNB\n",
        "from sklearn.neighbors import KNeighborsClassifier\n",
        "from sklearn.tree import DecisionTreeClassifier\n",
        "from sklearn.svm import SVC\n",
        "from sklearn.ensemble import RandomForestClassifier, ExtraTreesClassifier, GradientBoostingClassifier, BaggingClassifier\n",
        "from catboost import CatBoostClassifier\n",
        "from sklearn.neural_network import MLPClassifier\n",
        "from sklearn.metrics import confusion_matrix, accuracy_score, precision_score, recall_score\n"
      ]
    },
    {
      "cell_type": "code",
      "source": [
        "nltk.download('stopwords')\n",
        "nltk.download('wordnet')\n",
        "nltk.download('punkt')\n",
        "nltk.download('omw-1.4')"
      ],
      "metadata": {
        "colab": {
          "base_uri": "https://localhost:8080/"
        },
        "id": "GArXsRK50zQK",
        "outputId": "962a612e-a64f-4c55-cf7a-d2b928cd0719"
      },
      "execution_count": 3,
      "outputs": [
        {
          "output_type": "stream",
          "name": "stderr",
          "text": [
            "[nltk_data] Downloading package stopwords to /root/nltk_data...\n",
            "[nltk_data]   Unzipping corpora/stopwords.zip.\n",
            "[nltk_data] Downloading package wordnet to /root/nltk_data...\n",
            "[nltk_data] Downloading package punkt to /root/nltk_data...\n",
            "[nltk_data]   Unzipping tokenizers/punkt.zip.\n",
            "[nltk_data] Downloading package omw-1.4 to /root/nltk_data...\n"
          ]
        },
        {
          "output_type": "execute_result",
          "data": {
            "text/plain": [
              "True"
            ]
          },
          "metadata": {},
          "execution_count": 3
        }
      ]
    },
    {
      "cell_type": "code",
      "source": [
        "fake = pd.read_csv('/content/drive/MyDrive/Datasets/fake_news.csv')\n",
        "fake.drop('id',axis=1,inplace=True)\n",
        "fake.head()"
      ],
      "metadata": {
        "colab": {
          "base_uri": "https://localhost:8080/",
          "height": 206
        },
        "id": "BAA3SSdE05qb",
        "outputId": "3c566c8f-801c-4a14-c93c-c0a0c2575abc"
      },
      "execution_count": 4,
      "outputs": [
        {
          "output_type": "execute_result",
          "data": {
            "text/plain": [
              "                                               title              author  \\\n",
              "0  House Dem Aide: We Didn’t Even See Comey’s Let...       Darrell Lucus   \n",
              "1  FLYNN: Hillary Clinton, Big Woman on Campus - ...     Daniel J. Flynn   \n",
              "2                  Why the Truth Might Get You Fired  Consortiumnews.com   \n",
              "3  15 Civilians Killed In Single US Airstrike Hav...     Jessica Purkiss   \n",
              "4  Iranian woman jailed for fictional unpublished...      Howard Portnoy   \n",
              "\n",
              "                                                text  label  \n",
              "0  House Dem Aide: We Didn’t Even See Comey’s Let...      1  \n",
              "1  Ever get the feeling your life circles the rou...      0  \n",
              "2  Why the Truth Might Get You Fired October 29, ...      1  \n",
              "3  Videos 15 Civilians Killed In Single US Airstr...      1  \n",
              "4  Print \\nAn Iranian woman has been sentenced to...      1  "
            ],
            "text/html": [
              "\n",
              "  <div id=\"df-84e0b47a-b2ef-4176-82d5-ae599454d8a1\">\n",
              "    <div class=\"colab-df-container\">\n",
              "      <div>\n",
              "<style scoped>\n",
              "    .dataframe tbody tr th:only-of-type {\n",
              "        vertical-align: middle;\n",
              "    }\n",
              "\n",
              "    .dataframe tbody tr th {\n",
              "        vertical-align: top;\n",
              "    }\n",
              "\n",
              "    .dataframe thead th {\n",
              "        text-align: right;\n",
              "    }\n",
              "</style>\n",
              "<table border=\"1\" class=\"dataframe\">\n",
              "  <thead>\n",
              "    <tr style=\"text-align: right;\">\n",
              "      <th></th>\n",
              "      <th>title</th>\n",
              "      <th>author</th>\n",
              "      <th>text</th>\n",
              "      <th>label</th>\n",
              "    </tr>\n",
              "  </thead>\n",
              "  <tbody>\n",
              "    <tr>\n",
              "      <th>0</th>\n",
              "      <td>House Dem Aide: We Didn’t Even See Comey’s Let...</td>\n",
              "      <td>Darrell Lucus</td>\n",
              "      <td>House Dem Aide: We Didn’t Even See Comey’s Let...</td>\n",
              "      <td>1</td>\n",
              "    </tr>\n",
              "    <tr>\n",
              "      <th>1</th>\n",
              "      <td>FLYNN: Hillary Clinton, Big Woman on Campus - ...</td>\n",
              "      <td>Daniel J. Flynn</td>\n",
              "      <td>Ever get the feeling your life circles the rou...</td>\n",
              "      <td>0</td>\n",
              "    </tr>\n",
              "    <tr>\n",
              "      <th>2</th>\n",
              "      <td>Why the Truth Might Get You Fired</td>\n",
              "      <td>Consortiumnews.com</td>\n",
              "      <td>Why the Truth Might Get You Fired October 29, ...</td>\n",
              "      <td>1</td>\n",
              "    </tr>\n",
              "    <tr>\n",
              "      <th>3</th>\n",
              "      <td>15 Civilians Killed In Single US Airstrike Hav...</td>\n",
              "      <td>Jessica Purkiss</td>\n",
              "      <td>Videos 15 Civilians Killed In Single US Airstr...</td>\n",
              "      <td>1</td>\n",
              "    </tr>\n",
              "    <tr>\n",
              "      <th>4</th>\n",
              "      <td>Iranian woman jailed for fictional unpublished...</td>\n",
              "      <td>Howard Portnoy</td>\n",
              "      <td>Print \\nAn Iranian woman has been sentenced to...</td>\n",
              "      <td>1</td>\n",
              "    </tr>\n",
              "  </tbody>\n",
              "</table>\n",
              "</div>\n",
              "      <button class=\"colab-df-convert\" onclick=\"convertToInteractive('df-84e0b47a-b2ef-4176-82d5-ae599454d8a1')\"\n",
              "              title=\"Convert this dataframe to an interactive table.\"\n",
              "              style=\"display:none;\">\n",
              "        \n",
              "  <svg xmlns=\"http://www.w3.org/2000/svg\" height=\"24px\"viewBox=\"0 0 24 24\"\n",
              "       width=\"24px\">\n",
              "    <path d=\"M0 0h24v24H0V0z\" fill=\"none\"/>\n",
              "    <path d=\"M18.56 5.44l.94 2.06.94-2.06 2.06-.94-2.06-.94-.94-2.06-.94 2.06-2.06.94zm-11 1L8.5 8.5l.94-2.06 2.06-.94-2.06-.94L8.5 2.5l-.94 2.06-2.06.94zm10 10l.94 2.06.94-2.06 2.06-.94-2.06-.94-.94-2.06-.94 2.06-2.06.94z\"/><path d=\"M17.41 7.96l-1.37-1.37c-.4-.4-.92-.59-1.43-.59-.52 0-1.04.2-1.43.59L10.3 9.45l-7.72 7.72c-.78.78-.78 2.05 0 2.83L4 21.41c.39.39.9.59 1.41.59.51 0 1.02-.2 1.41-.59l7.78-7.78 2.81-2.81c.8-.78.8-2.07 0-2.86zM5.41 20L4 18.59l7.72-7.72 1.47 1.35L5.41 20z\"/>\n",
              "  </svg>\n",
              "      </button>\n",
              "      \n",
              "  <style>\n",
              "    .colab-df-container {\n",
              "      display:flex;\n",
              "      flex-wrap:wrap;\n",
              "      gap: 12px;\n",
              "    }\n",
              "\n",
              "    .colab-df-convert {\n",
              "      background-color: #E8F0FE;\n",
              "      border: none;\n",
              "      border-radius: 50%;\n",
              "      cursor: pointer;\n",
              "      display: none;\n",
              "      fill: #1967D2;\n",
              "      height: 32px;\n",
              "      padding: 0 0 0 0;\n",
              "      width: 32px;\n",
              "    }\n",
              "\n",
              "    .colab-df-convert:hover {\n",
              "      background-color: #E2EBFA;\n",
              "      box-shadow: 0px 1px 2px rgba(60, 64, 67, 0.3), 0px 1px 3px 1px rgba(60, 64, 67, 0.15);\n",
              "      fill: #174EA6;\n",
              "    }\n",
              "\n",
              "    [theme=dark] .colab-df-convert {\n",
              "      background-color: #3B4455;\n",
              "      fill: #D2E3FC;\n",
              "    }\n",
              "\n",
              "    [theme=dark] .colab-df-convert:hover {\n",
              "      background-color: #434B5C;\n",
              "      box-shadow: 0px 1px 3px 1px rgba(0, 0, 0, 0.15);\n",
              "      filter: drop-shadow(0px 1px 2px rgba(0, 0, 0, 0.3));\n",
              "      fill: #FFFFFF;\n",
              "    }\n",
              "  </style>\n",
              "\n",
              "      <script>\n",
              "        const buttonEl =\n",
              "          document.querySelector('#df-84e0b47a-b2ef-4176-82d5-ae599454d8a1 button.colab-df-convert');\n",
              "        buttonEl.style.display =\n",
              "          google.colab.kernel.accessAllowed ? 'block' : 'none';\n",
              "\n",
              "        async function convertToInteractive(key) {\n",
              "          const element = document.querySelector('#df-84e0b47a-b2ef-4176-82d5-ae599454d8a1');\n",
              "          const dataTable =\n",
              "            await google.colab.kernel.invokeFunction('convertToInteractive',\n",
              "                                                     [key], {});\n",
              "          if (!dataTable) return;\n",
              "\n",
              "          const docLinkHtml = 'Like what you see? Visit the ' +\n",
              "            '<a target=\"_blank\" href=https://colab.research.google.com/notebooks/data_table.ipynb>data table notebook</a>'\n",
              "            + ' to learn more about interactive tables.';\n",
              "          element.innerHTML = '';\n",
              "          dataTable['output_type'] = 'display_data';\n",
              "          await google.colab.output.renderOutput(dataTable, element);\n",
              "          const docLink = document.createElement('div');\n",
              "          docLink.innerHTML = docLinkHtml;\n",
              "          element.appendChild(docLink);\n",
              "        }\n",
              "      </script>\n",
              "    </div>\n",
              "  </div>\n",
              "  "
            ]
          },
          "metadata": {},
          "execution_count": 4
        }
      ]
    },
    {
      "cell_type": "markdown",
      "source": [
        "### Dicionário dos dados\n",
        "\n",
        "- **title**: O titulo da noticia.\n",
        "- **author**: autor da noticia.\n",
        "- **text**: texto da noticia, podendo estar incompleto.\n",
        "- **label**: o target sendo 1 = não confiavel/ fake e 0 = confiavel/ não é fake"
      ],
      "metadata": {
        "id": "d3CwDu9u3P0m"
      }
    },
    {
      "cell_type": "markdown",
      "source": [
        "## Análise Exploratória"
      ],
      "metadata": {
        "id": "NFPjf75f4En_"
      }
    },
    {
      "cell_type": "code",
      "source": [
        "fake.shape"
      ],
      "metadata": {
        "colab": {
          "base_uri": "https://localhost:8080/"
        },
        "id": "CNfULLm_4C7x",
        "outputId": "1104cf1d-65e0-4035-ed19-add4f33ad6e9"
      },
      "execution_count": 5,
      "outputs": [
        {
          "output_type": "execute_result",
          "data": {
            "text/plain": [
              "(20800, 4)"
            ]
          },
          "metadata": {},
          "execution_count": 5
        }
      ]
    },
    {
      "cell_type": "markdown",
      "source": [
        "Este dataset tem em torno de de 20 mil linhas, temos um dataset bem grade para utilizar."
      ],
      "metadata": {
        "id": "hpAiIqAp4LFn"
      }
    },
    {
      "cell_type": "code",
      "source": [
        "fake['label'].value_counts()"
      ],
      "metadata": {
        "colab": {
          "base_uri": "https://localhost:8080/"
        },
        "id": "eZ7FstAK3Jmk",
        "outputId": "652b72e1-785f-43d6-8b4c-ea12041d93cf"
      },
      "execution_count": 6,
      "outputs": [
        {
          "output_type": "execute_result",
          "data": {
            "text/plain": [
              "1    10413\n",
              "0    10387\n",
              "Name: label, dtype: int64"
            ]
          },
          "metadata": {},
          "execution_count": 6
        }
      ]
    },
    {
      "cell_type": "code",
      "source": [
        "plt.title('Quantidade de labels no dataset',fontsize=14)\n",
        "plt.pie(fake['label'].value_counts(),shadow=True,autopct='%1.2f',\n",
        "        labels=fake['label'].value_counts().index);"
      ],
      "metadata": {
        "colab": {
          "base_uri": "https://localhost:8080/",
          "height": 265
        },
        "id": "IIDf_D-k4AjX",
        "outputId": "2875190e-fd47-4af6-b1ba-c7a271e50400"
      },
      "execution_count": 7,
      "outputs": [
        {
          "output_type": "display_data",
          "data": {
            "text/plain": [
              "<Figure size 432x288 with 1 Axes>"
            ],
            "image/png": "[encoded data removed]"
          },
          "metadata": {}
        }
      ]
    },
    {
      "cell_type": "markdown",
      "source": [
        "Tem-se praticamente metade de cada classificação, mostrando que temos um dataset balanceado."
      ],
      "metadata": {
        "id": "xzFYb-Cq40rc"
      }
    },
    {
      "cell_type": "code",
      "source": [
        "plt.title('Os 15 autores mais presentes nas noticias',fontsize=14)\n",
        "plt.barh(fake['author'].value_counts()[0:15].index,fake['author'].value_counts()[0:15]);"
      ],
      "metadata": {
        "colab": {
          "base_uri": "https://localhost:8080/",
          "height": 282
        },
        "id": "eOTfj9Ct5hn_",
        "outputId": "c4cfe5db-7b6f-40f5-e57a-072229080d4c"
      },
      "execution_count": 8,
      "outputs": [
        {
          "output_type": "display_data",
          "data": {
            "text/plain": [
              "<Figure size 432x288 with 1 Axes>"
            ],
            "image/png": "[encoded data removed]"
          },
          "metadata": {
            "needs_background": "light"
          }
        }
      ]
    },
    {
      "cell_type": "markdown",
      "source": [
        "## Pre Processamento"
      ],
      "metadata": {
        "id": "vX2KYKMB6XpX"
      }
    },
    {
      "cell_type": "code",
      "source": [
        "fake['title'] = fake['title'].str.lower()\n",
        "fake['text'] = fake['text'].str.lower()"
      ],
      "metadata": {
        "id": "fopmTRBh6WzI"
      },
      "execution_count": 9,
      "outputs": []
    },
    {
      "cell_type": "code",
      "source": [
        "fake.isna().sum()"
      ],
      "metadata": {
        "colab": {
          "base_uri": "https://localhost:8080/"
        },
        "id": "FL8sAG1F6umI",
        "outputId": "08ee5864-771f-4894-a680-393f19ffbcd2"
      },
      "execution_count": 10,
      "outputs": [
        {
          "output_type": "execute_result",
          "data": {
            "text/plain": [
              "title      558\n",
              "author    1957\n",
              "text        39\n",
              "label        0\n",
              "dtype: int64"
            ]
          },
          "metadata": {},
          "execution_count": 10
        }
      ]
    },
    {
      "cell_type": "markdown",
      "source": [
        "O autor será desconsiderado na aplicação do modelo quando ao resto será retirado as linhas com valores nulos."
      ],
      "metadata": {
        "id": "dLi9J5UT6-eQ"
      }
    },
    {
      "cell_type": "code",
      "source": [
        "fake.drop('author',axis=1,inplace=True)\n",
        "fake.dropna(inplace=True)"
      ],
      "metadata": {
        "id": "zdFlNnhx7JUo"
      },
      "execution_count": 11,
      "outputs": []
    },
    {
      "cell_type": "code",
      "source": [
        "fake.isna().sum()"
      ],
      "metadata": {
        "colab": {
          "base_uri": "https://localhost:8080/"
        },
        "id": "3LWk0vsD7Uc4",
        "outputId": "b29b40ea-9e1c-4dd1-904a-f335545ce6a8"
      },
      "execution_count": 12,
      "outputs": [
        {
          "output_type": "execute_result",
          "data": {
            "text/plain": [
              "title    0\n",
              "text     0\n",
              "label    0\n",
              "dtype: int64"
            ]
          },
          "metadata": {},
          "execution_count": 12
        }
      ]
    },
    {
      "cell_type": "code",
      "source": [
        "fake.duplicated().sum()"
      ],
      "metadata": {
        "colab": {
          "base_uri": "https://localhost:8080/"
        },
        "id": "aflLV-Ou7Xq9",
        "outputId": "d78add54-d9bc-4ee7-8fcd-662ad789473e"
      },
      "execution_count": 13,
      "outputs": [
        {
          "output_type": "execute_result",
          "data": {
            "text/plain": [
              "71"
            ]
          },
          "metadata": {},
          "execution_count": 13
        }
      ]
    },
    {
      "cell_type": "code",
      "source": [
        "fake.drop_duplicates(inplace=True)"
      ],
      "metadata": {
        "id": "rbxMu68z7lbH"
      },
      "execution_count": 14,
      "outputs": []
    },
    {
      "cell_type": "code",
      "source": [
        "fake.duplicated().sum()"
      ],
      "metadata": {
        "colab": {
          "base_uri": "https://localhost:8080/"
        },
        "id": "voGXgHr37o_Q",
        "outputId": "9203783b-dcc5-45ad-f1a8-354c7587410d"
      },
      "execution_count": 15,
      "outputs": [
        {
          "output_type": "execute_result",
          "data": {
            "text/plain": [
              "0"
            ]
          },
          "metadata": {},
          "execution_count": 15
        }
      ]
    },
    {
      "cell_type": "code",
      "source": [
        "#removendo stopwords\n",
        "stop = stopwords.words('english')\n",
        "fake['title'] = fake['title'].apply(lambda x: ' '.join([word for word in x.split() if word not in (stop)]))\n",
        "fake['text'] = fake['text'].apply(lambda x: ' '.join([word for word in x.split() if word not in (stop)]))"
      ],
      "metadata": {
        "id": "3vvXn1qZ70Tm"
      },
      "execution_count": 16,
      "outputs": []
    },
    {
      "cell_type": "code",
      "source": [
        "# Aplicando lemantização\n",
        "def lema(coluna):\n",
        "  lema = []\n",
        "  wnl = WordNetLemmatizer()\n",
        "  lista = list(coluna)\n",
        "  for i in range(len(lista)):\n",
        "    lista_le = nltk.word_tokenize(lista[i])\n",
        "    junta = ' '.join([wnl.lemmatize(words) for words in lista_le])\n",
        "    lema.append(junta)\n",
        "  coluna = lema\n",
        "  return coluna"
      ],
      "metadata": {
        "id": "F9QK0fh-8k0N"
      },
      "execution_count": 17,
      "outputs": []
    },
    {
      "cell_type": "code",
      "source": [
        "fake['title'] = lema(fake['title'])\n",
        "fake['text'] = lema(fake['text'])"
      ],
      "metadata": {
        "id": "zzrA2e-t8rlF"
      },
      "execution_count": 18,
      "outputs": []
    },
    {
      "cell_type": "code",
      "source": [
        "# Aplicando tokenização\n",
        "def toke(coluna):\n",
        "  tokenizer = RegexpTokenizer(r'[A-z]\\w*')\n",
        "  token = []\n",
        "  lista = np.asarray(coluna)\n",
        "  for i in range(len(coluna)):\n",
        "    tokens = tokenizer.tokenize(lista[i])\n",
        "    token.append(tokens)\n",
        "  coluna = token\n",
        "  return coluna"
      ],
      "metadata": {
        "id": "pqaSOh6V9lUk"
      },
      "execution_count": 19,
      "outputs": []
    },
    {
      "cell_type": "code",
      "source": [
        "fake['title'] = toke(fake['title'])\n",
        "fake['text'] = toke(fake['text'])"
      ],
      "metadata": {
        "id": "eWOkjSxF9pK6"
      },
      "execution_count": 20,
      "outputs": []
    },
    {
      "cell_type": "code",
      "source": [
        "fake.head()"
      ],
      "metadata": {
        "colab": {
          "base_uri": "https://localhost:8080/",
          "height": 206
        },
        "id": "RAGfFY1r91ET",
        "outputId": "51bdaf71-2cf7-46e2-a72a-d872d82eb8cd"
      },
      "execution_count": 21,
      "outputs": [
        {
          "output_type": "execute_result",
          "data": {
            "text/plain": [
              "                                               title  \\\n",
              "0  [house, dem, aide, didn, t, even, see, comey, ...   \n",
              "1  [flynn, hillary, clinton, big, woman, campus, ...   \n",
              "2                         [truth, might, get, fired]   \n",
              "3  [civilian, killed, single, u, airstrike, ident...   \n",
              "4  [iranian, woman, jailed, fictional, unpublishe...   \n",
              "\n",
              "                                                text  label  \n",
              "0  [house, dem, aide, didn, t, even, see, comey, ...      1  \n",
              "1  [ever, get, feeling, life, circle, roundabout,...      0  \n",
              "2  [truth, might, get, fired, october, tension, i...      1  \n",
              "3  [video, civilian, killed, single, u, airstrike...      1  \n",
              "4  [print, iranian, woman, sentenced, six, year, ...      1  "
            ],
            "text/html": [
              "\n",
              "  <div id=\"df-525d7e1c-676e-4764-94c0-d27a2ea97e7a\">\n",
              "    <div class=\"colab-df-container\">\n",
              "      <div>\n",
              "<style scoped>\n",
              "    .dataframe tbody tr th:only-of-type {\n",
              "        vertical-align: middle;\n",
              "    }\n",
              "\n",
              "    .dataframe tbody tr th {\n",
              "        vertical-align: top;\n",
              "    }\n",
              "\n",
              "    .dataframe thead th {\n",
              "        text-align: right;\n",
              "    }\n",
              "</style>\n",
              "<table border=\"1\" class=\"dataframe\">\n",
              "  <thead>\n",
              "    <tr style=\"text-align: right;\">\n",
              "      <th></th>\n",
              "      <th>title</th>\n",
              "      <th>text</th>\n",
              "      <th>label</th>\n",
              "    </tr>\n",
              "  </thead>\n",
              "  <tbody>\n",
              "    <tr>\n",
              "      <th>0</th>\n",
              "      <td>[house, dem, aide, didn, t, even, see, comey, ...</td>\n",
              "      <td>[house, dem, aide, didn, t, even, see, comey, ...</td>\n",
              "      <td>1</td>\n",
              "    </tr>\n",
              "    <tr>\n",
              "      <th>1</th>\n",
              "      <td>[flynn, hillary, clinton, big, woman, campus, ...</td>\n",
              "      <td>[ever, get, feeling, life, circle, roundabout,...</td>\n",
              "      <td>0</td>\n",
              "    </tr>\n",
              "    <tr>\n",
              "      <th>2</th>\n",
              "      <td>[truth, might, get, fired]</td>\n",
              "      <td>[truth, might, get, fired, october, tension, i...</td>\n",
              "      <td>1</td>\n",
              "    </tr>\n",
              "    <tr>\n",
              "      <th>3</th>\n",
              "      <td>[civilian, killed, single, u, airstrike, ident...</td>\n",
              "      <td>[video, civilian, killed, single, u, airstrike...</td>\n",
              "      <td>1</td>\n",
              "    </tr>\n",
              "    <tr>\n",
              "      <th>4</th>\n",
              "      <td>[iranian, woman, jailed, fictional, unpublishe...</td>\n",
              "      <td>[print, iranian, woman, sentenced, six, year, ...</td>\n",
              "      <td>1</td>\n",
              "    </tr>\n",
              "  </tbody>\n",
              "</table>\n",
              "</div>\n",
              "      <button class=\"colab-df-convert\" onclick=\"convertToInteractive('df-525d7e1c-676e-4764-94c0-d27a2ea97e7a')\"\n",
              "              title=\"Convert this dataframe to an interactive table.\"\n",
              "              style=\"display:none;\">\n",
              "        \n",
              "  <svg xmlns=\"http://www.w3.org/2000/svg\" height=\"24px\"viewBox=\"0 0 24 24\"\n",
              "       width=\"24px\">\n",
              "    <path d=\"M0 0h24v24H0V0z\" fill=\"none\"/>\n",
              "    <path d=\"M18.56 5.44l.94 2.06.94-2.06 2.06-.94-2.06-.94-.94-2.06-.94 2.06-2.06.94zm-11 1L8.5 8.5l.94-2.06 2.06-.94-2.06-.94L8.5 2.5l-.94 2.06-2.06.94zm10 10l.94 2.06.94-2.06 2.06-.94-2.06-.94-.94-2.06-.94 2.06-2.06.94z\"/><path d=\"M17.41 7.96l-1.37-1.37c-.4-.4-.92-.59-1.43-.59-.52 0-1.04.2-1.43.59L10.3 9.45l-7.72 7.72c-.78.78-.78 2.05 0 2.83L4 21.41c.39.39.9.59 1.41.59.51 0 1.02-.2 1.41-.59l7.78-7.78 2.81-2.81c.8-.78.8-2.07 0-2.86zM5.41 20L4 18.59l7.72-7.72 1.47 1.35L5.41 20z\"/>\n",
              "  </svg>\n",
              "      </button>\n",
              "      \n",
              "  <style>\n",
              "    .colab-df-container {\n",
              "      display:flex;\n",
              "      flex-wrap:wrap;\n",
              "      gap: 12px;\n",
              "    }\n",
              "\n",
              "    .colab-df-convert {\n",
              "      background-color: #E8F0FE;\n",
              "      border: none;\n",
              "      border-radius: 50%;\n",
              "      cursor: pointer;\n",
              "      display: none;\n",
              "      fill: #1967D2;\n",
              "      height: 32px;\n",
              "      padding: 0 0 0 0;\n",
              "      width: 32px;\n",
              "    }\n",
              "\n",
              "    .colab-df-convert:hover {\n",
              "      background-color: #E2EBFA;\n",
              "      box-shadow: 0px 1px 2px rgba(60, 64, 67, 0.3), 0px 1px 3px 1px rgba(60, 64, 67, 0.15);\n",
              "      fill: #174EA6;\n",
              "    }\n",
              "\n",
              "    [theme=dark] .colab-df-convert {\n",
              "      background-color: #3B4455;\n",
              "      fill: #D2E3FC;\n",
              "    }\n",
              "\n",
              "    [theme=dark] .colab-df-convert:hover {\n",
              "      background-color: #434B5C;\n",
              "      box-shadow: 0px 1px 3px 1px rgba(0, 0, 0, 0.15);\n",
              "      filter: drop-shadow(0px 1px 2px rgba(0, 0, 0, 0.3));\n",
              "      fill: #FFFFFF;\n",
              "    }\n",
              "  </style>\n",
              "\n",
              "      <script>\n",
              "        const buttonEl =\n",
              "          document.querySelector('#df-525d7e1c-676e-4764-94c0-d27a2ea97e7a button.colab-df-convert');\n",
              "        buttonEl.style.display =\n",
              "          google.colab.kernel.accessAllowed ? 'block' : 'none';\n",
              "\n",
              "        async function convertToInteractive(key) {\n",
              "          const element = document.querySelector('#df-525d7e1c-676e-4764-94c0-d27a2ea97e7a');\n",
              "          const dataTable =\n",
              "            await google.colab.kernel.invokeFunction('convertToInteractive',\n",
              "                                                     [key], {});\n",
              "          if (!dataTable) return;\n",
              "\n",
              "          const docLinkHtml = 'Like what you see? Visit the ' +\n",
              "            '<a target=\"_blank\" href=https://colab.research.google.com/notebooks/data_table.ipynb>data table notebook</a>'\n",
              "            + ' to learn more about interactive tables.';\n",
              "          element.innerHTML = '';\n",
              "          dataTable['output_type'] = 'display_data';\n",
              "          await google.colab.output.renderOutput(dataTable, element);\n",
              "          const docLink = document.createElement('div');\n",
              "          docLink.innerHTML = docLinkHtml;\n",
              "          element.appendChild(docLink);\n",
              "        }\n",
              "      </script>\n",
              "    </div>\n",
              "  </div>\n",
              "  "
            ]
          },
          "metadata": {},
          "execution_count": 21
        }
      ]
    },
    {
      "cell_type": "code",
      "source": [
        "# Aplicando o conutvectorizer do sklearn para extração de caracteristicas\n",
        "vectorizer = CountVectorizer(lowercase=False,ngram_range=(1,1))\n",
        "x1 = vectorizer.fit_transform(fake['title'].astype(str))"
      ],
      "metadata": {
        "id": "WAH430yy97Gu"
      },
      "execution_count": 22,
      "outputs": []
    },
    {
      "cell_type": "code",
      "source": [
        "x2 = vectorizer.fit_transform(fake['text'].astype(str))"
      ],
      "metadata": {
        "id": "X47xniw2-b42"
      },
      "execution_count": 23,
      "outputs": []
    },
    {
      "cell_type": "markdown",
      "source": [
        "## Modelagem\n",
        "\n",
        "### No titulo"
      ],
      "metadata": {
        "id": "R4MDCHr1-noa"
      }
    },
    {
      "cell_type": "code",
      "source": [
        "x1_treino, x1_teste, y1_treino, y1_teste = train_test_split(x1,fake.label,test_size=0.20,random_state=42)"
      ],
      "metadata": {
        "id": "4HCx4FML-usB"
      },
      "execution_count": 24,
      "outputs": []
    },
    {
      "cell_type": "code",
      "source": [
        "lg = LogisticRegression()\n",
        "lg.fit(x1_treino,y1_treino)\n",
        "y_lg = lg.predict(x1_teste)"
      ],
      "metadata": {
        "id": "ZIWisWj0_TLY"
      },
      "execution_count": 25,
      "outputs": []
    },
    {
      "cell_type": "code",
      "source": [
        "confusion_matrix(y1_teste,y_lg)"
      ],
      "metadata": {
        "colab": {
          "base_uri": "https://localhost:8080/"
        },
        "id": "VHB3-GcF_xOU",
        "outputId": "7e7e512e-ade1-4f19-a3c7-dad5a75e032e"
      },
      "execution_count": 26,
      "outputs": [
        {
          "output_type": "execute_result",
          "data": {
            "text/plain": [
              "array([[1861,  193],\n",
              "       [  43, 1930]])"
            ]
          },
          "metadata": {},
          "execution_count": 26
        }
      ]
    },
    {
      "cell_type": "code",
      "source": [
        "print('ACC',accuracy_score(y1_teste,y_lg))\n",
        "print('PRE',precision_score(y1_teste,y_lg))\n",
        "print('REC',recall_score(y1_teste,y_lg))"
      ],
      "metadata": {
        "colab": {
          "base_uri": "https://localhost:8080/"
        },
        "id": "ko1HuxVH_2ju",
        "outputId": "f8a5ade6-fda7-4563-bb46-e97a352c88e7"
      },
      "execution_count": 27,
      "outputs": [
        {
          "output_type": "stream",
          "name": "stdout",
          "text": [
            "ACC 0.9413955798361063\n",
            "PRE 0.9090909090909091\n",
            "REC 0.9782057780030411\n"
          ]
        }
      ]
    },
    {
      "cell_type": "code",
      "source": [
        "per = Perceptron()\n",
        "per.fit(x1_treino,y1_treino)\n",
        "y_per = per.predict(x1_teste)"
      ],
      "metadata": {
        "id": "JLDfKvHyLtAQ"
      },
      "execution_count": 28,
      "outputs": []
    },
    {
      "cell_type": "code",
      "source": [
        "confusion_matrix(y1_teste,y_per)"
      ],
      "metadata": {
        "colab": {
          "base_uri": "https://localhost:8080/"
        },
        "id": "6qmm8N51L23P",
        "outputId": "93776156-b8bf-459d-e2c2-4ea3059f2f3c"
      },
      "execution_count": 29,
      "outputs": [
        {
          "output_type": "execute_result",
          "data": {
            "text/plain": [
              "array([[1899,  155],\n",
              "       [ 127, 1846]])"
            ]
          },
          "metadata": {},
          "execution_count": 29
        }
      ]
    },
    {
      "cell_type": "code",
      "source": [
        "print('ACC',accuracy_score(y1_teste,y_per))\n",
        "print('PRE',precision_score(y1_teste,y_per))\n",
        "print('REC',recall_score(y1_teste,y_per))"
      ],
      "metadata": {
        "colab": {
          "base_uri": "https://localhost:8080/"
        },
        "id": "7a4xrSQqL_U2",
        "outputId": "bc38433e-113e-43ea-d9d2-35e950b04612"
      },
      "execution_count": 30,
      "outputs": [
        {
          "output_type": "stream",
          "name": "stdout",
          "text": [
            "ACC 0.9299726843804321\n",
            "PRE 0.9225387306346826\n",
            "REC 0.9356310187531678\n"
          ]
        }
      ]
    },
    {
      "cell_type": "code",
      "source": [
        "multi = MultinomialNB()\n",
        "multi.fit(x1_treino,y1_treino)\n",
        "y_mul = multi.predict(x1_teste)"
      ],
      "metadata": {
        "id": "2UNtECUlAPy7"
      },
      "execution_count": 31,
      "outputs": []
    },
    {
      "cell_type": "code",
      "source": [
        "confusion_matrix(y1_teste,y_mul)"
      ],
      "metadata": {
        "colab": {
          "base_uri": "https://localhost:8080/"
        },
        "id": "dx7NAQTRAlnp",
        "outputId": "8bf4e7fb-321d-4376-e660-9c61781e657f"
      },
      "execution_count": 32,
      "outputs": [
        {
          "output_type": "execute_result",
          "data": {
            "text/plain": [
              "array([[1946,  108],\n",
              "       [ 286, 1687]])"
            ]
          },
          "metadata": {},
          "execution_count": 32
        }
      ]
    },
    {
      "cell_type": "code",
      "source": [
        "print('ACC',accuracy_score(y1_teste,y_mul))\n",
        "print('PRE',precision_score(y1_teste,y_mul))\n",
        "print('REC',recall_score(y1_teste,y_mul))"
      ],
      "metadata": {
        "colab": {
          "base_uri": "https://localhost:8080/"
        },
        "id": "oWpUgcwaAsXA",
        "outputId": "e58a0a8f-d881-4df7-e07b-3eef3fc63cf9"
      },
      "execution_count": 33,
      "outputs": [
        {
          "output_type": "stream",
          "name": "stdout",
          "text": [
            "ACC 0.902160417184008\n",
            "PRE 0.9398328690807799\n",
            "REC 0.8550430816016219\n"
          ]
        }
      ]
    },
    {
      "cell_type": "code",
      "source": [
        "knn = KNeighborsClassifier()\n",
        "knn.fit(x1_treino,y1_treino)\n",
        "y_knn = knn.predict(x1_teste)"
      ],
      "metadata": {
        "id": "-EJ_sR9QA1ir"
      },
      "execution_count": 34,
      "outputs": []
    },
    {
      "cell_type": "code",
      "source": [
        "confusion_matrix(y1_teste,y_knn)"
      ],
      "metadata": {
        "colab": {
          "base_uri": "https://localhost:8080/"
        },
        "id": "fWzb5obvBNWe",
        "outputId": "5f5d4f7a-b514-4136-b12f-08636a1bb380"
      },
      "execution_count": 35,
      "outputs": [
        {
          "output_type": "execute_result",
          "data": {
            "text/plain": [
              "array([[1263,  791],\n",
              "       [   5, 1968]])"
            ]
          },
          "metadata": {},
          "execution_count": 35
        }
      ]
    },
    {
      "cell_type": "code",
      "source": [
        "print('ACC',accuracy_score(y1_teste,y_knn))\n",
        "print('PRE',precision_score(y1_teste,y_knn))\n",
        "print('REC',recall_score(y1_teste,y_knn))"
      ],
      "metadata": {
        "colab": {
          "base_uri": "https://localhost:8080/"
        },
        "id": "PwgMI1LcBTPh",
        "outputId": "6cb2cccf-3ea4-46da-ce97-7ee73ba4a857"
      },
      "execution_count": 36,
      "outputs": [
        {
          "output_type": "stream",
          "name": "stdout",
          "text": [
            "ACC 0.8023342438539856\n",
            "PRE 0.7133019209858644\n",
            "REC 0.9974657881398885\n"
          ]
        }
      ]
    },
    {
      "cell_type": "code",
      "source": [
        "tree = DecisionTreeClassifier()\n",
        "tree.fit(x1_treino,y1_treino)\n",
        "y_tree = tree.predict(x1_teste)"
      ],
      "metadata": {
        "id": "Al8LD_neBiO-"
      },
      "execution_count": 37,
      "outputs": []
    },
    {
      "cell_type": "code",
      "source": [
        "confusion_matrix(y1_teste,y_tree)"
      ],
      "metadata": {
        "colab": {
          "base_uri": "https://localhost:8080/"
        },
        "id": "fvTa2YFvCC3l",
        "outputId": "36ae1afd-fbca-4f2e-de83-68a93a97bfc9"
      },
      "execution_count": 38,
      "outputs": [
        {
          "output_type": "execute_result",
          "data": {
            "text/plain": [
              "array([[1866,  188],\n",
              "       [ 122, 1851]])"
            ]
          },
          "metadata": {},
          "execution_count": 38
        }
      ]
    },
    {
      "cell_type": "code",
      "source": [
        "print('ACC',accuracy_score(y1_teste,y_tree))\n",
        "print('PRE',precision_score(y1_teste,y_tree))\n",
        "print('REC',recall_score(y1_teste,y_tree))"
      ],
      "metadata": {
        "colab": {
          "base_uri": "https://localhost:8080/"
        },
        "id": "nUmtbhRRCId4",
        "outputId": "a6730909-87e7-4b85-caf7-b2c93e086b52"
      },
      "execution_count": 39,
      "outputs": [
        {
          "output_type": "stream",
          "name": "stdout",
          "text": [
            "ACC 0.923019617581326\n",
            "PRE 0.9077979401667484\n",
            "REC 0.9381652306132793\n"
          ]
        }
      ]
    },
    {
      "cell_type": "code",
      "source": [
        "rf = RandomForestClassifier()\n",
        "rf.fit(x1_treino,y1_treino)\n",
        "y_rf = rf.predict(x1_teste)"
      ],
      "metadata": {
        "id": "Qo0SYpbDCakF"
      },
      "execution_count": 40,
      "outputs": []
    },
    {
      "cell_type": "code",
      "source": [
        "confusion_matrix(y1_teste,y_rf)"
      ],
      "metadata": {
        "colab": {
          "base_uri": "https://localhost:8080/"
        },
        "id": "woLwRjSHCqj5",
        "outputId": "988b5555-f227-4547-a75e-536608330d7a"
      },
      "execution_count": 41,
      "outputs": [
        {
          "output_type": "execute_result",
          "data": {
            "text/plain": [
              "array([[1832,  222],\n",
              "       [  36, 1937]])"
            ]
          },
          "metadata": {},
          "execution_count": 41
        }
      ]
    },
    {
      "cell_type": "code",
      "source": [
        "print('ACC',accuracy_score(y1_teste,y_rf))\n",
        "print('PRE',precision_score(y1_teste,y_rf))\n",
        "print('REC',recall_score(y1_teste,y_rf))"
      ],
      "metadata": {
        "colab": {
          "base_uri": "https://localhost:8080/"
        },
        "id": "4-S6ZddIC6xm",
        "outputId": "02d2f654-20d9-42e5-eaab-1567bd727ea0"
      },
      "execution_count": 42,
      "outputs": [
        {
          "output_type": "stream",
          "name": "stdout",
          "text": [
            "ACC 0.9359324559225229\n",
            "PRE 0.8971746178786475\n",
            "REC 0.9817536746071972\n"
          ]
        }
      ]
    },
    {
      "cell_type": "code",
      "source": [
        "ex = ExtraTreesClassifier()\n",
        "ex.fit(x1_treino,y1_treino)\n",
        "y_ex = ex.predict(x1_teste)"
      ],
      "metadata": {
        "id": "gdTsWLRrDEdh"
      },
      "execution_count": 43,
      "outputs": []
    },
    {
      "cell_type": "code",
      "source": [
        "confusion_matrix(y1_teste,y_ex)"
      ],
      "metadata": {
        "colab": {
          "base_uri": "https://localhost:8080/"
        },
        "id": "hwy6jhurDhaH",
        "outputId": "3d99f6fa-4213-4f0c-a403-e85566782bfb"
      },
      "execution_count": 44,
      "outputs": [
        {
          "output_type": "execute_result",
          "data": {
            "text/plain": [
              "array([[1868,  186],\n",
              "       [  49, 1924]])"
            ]
          },
          "metadata": {},
          "execution_count": 44
        }
      ]
    },
    {
      "cell_type": "code",
      "source": [
        "print('ACC',accuracy_score(y1_teste,y_ex))\n",
        "print('PRE',precision_score(y1_teste,y_ex))\n",
        "print('REC',recall_score(y1_teste,y_ex))"
      ],
      "metadata": {
        "colab": {
          "base_uri": "https://localhost:8080/"
        },
        "id": "u55pFMK_Dk46",
        "outputId": "5f084260-b74b-4f36-f97a-2b55054d6a5a"
      },
      "execution_count": 45,
      "outputs": [
        {
          "output_type": "stream",
          "name": "stdout",
          "text": [
            "ACC 0.9416439036503601\n",
            "PRE 0.9118483412322275\n",
            "REC 0.9751647237709072\n"
          ]
        }
      ]
    },
    {
      "cell_type": "code",
      "source": [
        "grad = GradientBoostingClassifier()\n",
        "grad.fit(x1_treino,y1_treino)\n",
        "y_grad = grad.predict(x1_teste)"
      ],
      "metadata": {
        "id": "4Pa5KrFJD7ST"
      },
      "execution_count": 46,
      "outputs": []
    },
    {
      "cell_type": "code",
      "source": [
        "confusion_matrix(y1_teste,y_grad)"
      ],
      "metadata": {
        "colab": {
          "base_uri": "https://localhost:8080/"
        },
        "id": "A1R_yzW1ESPw",
        "outputId": "5c29740c-6a7c-47c6-97f2-b97b9223e190"
      },
      "execution_count": 47,
      "outputs": [
        {
          "output_type": "execute_result",
          "data": {
            "text/plain": [
              "array([[1738,  316],\n",
              "       [  13, 1960]])"
            ]
          },
          "metadata": {},
          "execution_count": 47
        }
      ]
    },
    {
      "cell_type": "code",
      "source": [
        "print('ACC',accuracy_score(y1_teste,y_grad))\n",
        "print('PRE',precision_score(y1_teste,y_grad))\n",
        "print('REC',recall_score(y1_teste,y_grad))"
      ],
      "metadata": {
        "colab": {
          "base_uri": "https://localhost:8080/"
        },
        "id": "8Jh77WdpEZjp",
        "outputId": "1f39ad4d-98e9-46fd-b24f-a9dcb182cd48"
      },
      "execution_count": 48,
      "outputs": [
        {
          "output_type": "stream",
          "name": "stdout",
          "text": [
            "ACC 0.9183014651105041\n",
            "PRE 0.8611599297012302\n",
            "REC 0.99341104916371\n"
          ]
        }
      ]
    },
    {
      "cell_type": "code",
      "source": [
        "svm = SVC(kernel='linear')\n",
        "svm.fit(x1_treino,y1_treino)\n",
        "y_svm = svm.predict(x1_teste)"
      ],
      "metadata": {
        "id": "ca2rWotlEuFl"
      },
      "execution_count": 49,
      "outputs": []
    },
    {
      "cell_type": "code",
      "source": [
        "confusion_matrix(y1_teste,y_svm)"
      ],
      "metadata": {
        "colab": {
          "base_uri": "https://localhost:8080/"
        },
        "id": "khr-2Gg1FSOo",
        "outputId": "3d9d58aa-e2e2-437c-8321-b83ab214391f"
      },
      "execution_count": 50,
      "outputs": [
        {
          "output_type": "execute_result",
          "data": {
            "text/plain": [
              "array([[1898,  156],\n",
              "       [  98, 1875]])"
            ]
          },
          "metadata": {},
          "execution_count": 50
        }
      ]
    },
    {
      "cell_type": "code",
      "source": [
        "print('ACC',accuracy_score(y1_teste,y_svm))\n",
        "print('PRE',precision_score(y1_teste,y_svm))\n",
        "print('REC',recall_score(y1_teste,y_svm))"
      ],
      "metadata": {
        "colab": {
          "base_uri": "https://localhost:8080/"
        },
        "id": "NluRjBuRFWcH",
        "outputId": "87a99914-9552-48c2-84da-c8409687072f"
      },
      "execution_count": 51,
      "outputs": [
        {
          "output_type": "stream",
          "name": "stdout",
          "text": [
            "ACC 0.9369257511795381\n",
            "PRE 0.9231905465288035\n",
            "REC 0.9503294475418145\n"
          ]
        }
      ]
    },
    {
      "cell_type": "code",
      "source": [
        "mlpc1 = MLPClassifier()\n",
        "mlpc1.fit(x1_treino,y1_treino)\n",
        "y_mlpc1 = mlpc1.predict(x1_teste)"
      ],
      "metadata": {
        "id": "bkASA0RrRg2O"
      },
      "execution_count": 52,
      "outputs": []
    },
    {
      "cell_type": "code",
      "source": [
        "confusion_matrix(y1_teste,y_mlpc1)"
      ],
      "metadata": {
        "colab": {
          "base_uri": "https://localhost:8080/"
        },
        "id": "r1zKwtoHStdU",
        "outputId": "8d1d0b64-121b-4649-8d07-6d0514f678df"
      },
      "execution_count": 53,
      "outputs": [
        {
          "output_type": "execute_result",
          "data": {
            "text/plain": [
              "array([[1890,  164],\n",
              "       [ 112, 1861]])"
            ]
          },
          "metadata": {},
          "execution_count": 53
        }
      ]
    },
    {
      "cell_type": "code",
      "source": [
        "print('ACC',accuracy_score(y1_teste,y_mlpc1))\n",
        "print('PRE',precision_score(y1_teste,y_mlpc1))\n",
        "print('REC',recall_score(y1_teste,y_mlpc1))"
      ],
      "metadata": {
        "colab": {
          "base_uri": "https://localhost:8080/"
        },
        "id": "165HFZf_Sz_d",
        "outputId": "d81f9574-8000-4cb5-feb0-225ab66f6add"
      },
      "execution_count": 54,
      "outputs": [
        {
          "output_type": "stream",
          "name": "stdout",
          "text": [
            "ACC 0.9314626272659549\n",
            "PRE 0.9190123456790124\n",
            "REC 0.9432336543335023\n"
          ]
        }
      ]
    },
    {
      "cell_type": "code",
      "source": [
        "cat = CatBoostClassifier()\n",
        "cat.fit(x1_treino,y1_treino)\n",
        "y_cat = cat.predict(x1_teste)"
      ],
      "metadata": {
        "colab": {
          "base_uri": "https://localhost:8080/"
        },
        "id": "4Q3VRrRNGgXY",
        "outputId": "b75e7bc1-e986-44ad-a6ad-c825476da380"
      },
      "execution_count": 55,
      "outputs": [
        {
          "output_type": "stream",
          "name": "stdout",
          "text": [
            "Learning rate set to 0.033753\n",
            "0:\tlearn: 0.6415715\ttotal: 128ms\tremaining: 2m 8s\n",
            "1:\tlearn: 0.5965487\ttotal: 194ms\tremaining: 1m 36s\n",
            "2:\tlearn: 0.5571425\ttotal: 261ms\tremaining: 1m 26s\n",
            "3:\tlearn: 0.5225005\ttotal: 318ms\tremaining: 1m 19s\n",
            "4:\tlearn: 0.4925245\ttotal: 380ms\tremaining: 1m 15s\n",
            "5:\tlearn: 0.4663425\ttotal: 438ms\tremaining: 1m 12s\n",
            "6:\tlearn: 0.4435289\ttotal: 496ms\tremaining: 1m 10s\n",
            "7:\tlearn: 0.4236015\ttotal: 554ms\tremaining: 1m 8s\n",
            "8:\tlearn: 0.4060717\ttotal: 617ms\tremaining: 1m 7s\n",
            "9:\tlearn: 0.3902140\ttotal: 674ms\tremaining: 1m 6s\n",
            "10:\tlearn: 0.3752389\ttotal: 741ms\tremaining: 1m 6s\n",
            "11:\tlearn: 0.3635206\ttotal: 803ms\tremaining: 1m 6s\n",
            "12:\tlearn: 0.3530298\ttotal: 866ms\tremaining: 1m 5s\n",
            "13:\tlearn: 0.3437006\ttotal: 923ms\tremaining: 1m 5s\n",
            "14:\tlearn: 0.3354383\ttotal: 983ms\tremaining: 1m 4s\n",
            "15:\tlearn: 0.3294392\ttotal: 1.04s\tremaining: 1m 4s\n",
            "16:\tlearn: 0.3224227\ttotal: 1.1s\tremaining: 1m 3s\n",
            "17:\tlearn: 0.3163294\ttotal: 1.16s\tremaining: 1m 3s\n",
            "18:\tlearn: 0.3106925\ttotal: 1.22s\tremaining: 1m 3s\n",
            "19:\tlearn: 0.3062807\ttotal: 1.29s\tremaining: 1m 3s\n",
            "20:\tlearn: 0.3006055\ttotal: 1.35s\tremaining: 1m 3s\n",
            "21:\tlearn: 0.2961223\ttotal: 1.41s\tremaining: 1m 2s\n",
            "22:\tlearn: 0.2918949\ttotal: 1.47s\tremaining: 1m 2s\n",
            "23:\tlearn: 0.2881165\ttotal: 1.53s\tremaining: 1m 2s\n",
            "24:\tlearn: 0.2847137\ttotal: 1.6s\tremaining: 1m 2s\n",
            "25:\tlearn: 0.2817459\ttotal: 1.66s\tremaining: 1m 2s\n",
            "26:\tlearn: 0.2795628\ttotal: 1.71s\tremaining: 1m 1s\n",
            "27:\tlearn: 0.2765380\ttotal: 1.77s\tremaining: 1m 1s\n",
            "28:\tlearn: 0.2739806\ttotal: 1.84s\tremaining: 1m 1s\n",
            "29:\tlearn: 0.2711067\ttotal: 1.9s\tremaining: 1m 1s\n",
            "30:\tlearn: 0.2692602\ttotal: 1.96s\tremaining: 1m 1s\n",
            "31:\tlearn: 0.2670277\ttotal: 2.02s\tremaining: 1m 1s\n",
            "32:\tlearn: 0.2650149\ttotal: 2.08s\tremaining: 1m 1s\n",
            "33:\tlearn: 0.2626876\ttotal: 2.15s\tremaining: 1m\n",
            "34:\tlearn: 0.2612781\ttotal: 2.2s\tremaining: 1m\n",
            "35:\tlearn: 0.2599996\ttotal: 2.27s\tremaining: 1m\n",
            "36:\tlearn: 0.2587604\ttotal: 2.34s\tremaining: 1m 1s\n",
            "37:\tlearn: 0.2569046\ttotal: 2.4s\tremaining: 1m\n",
            "38:\tlearn: 0.2557939\ttotal: 2.46s\tremaining: 1m\n",
            "39:\tlearn: 0.2543268\ttotal: 2.52s\tremaining: 1m\n",
            "40:\tlearn: 0.2530892\ttotal: 2.58s\tremaining: 1m\n",
            "41:\tlearn: 0.2517251\ttotal: 2.64s\tremaining: 1m\n",
            "42:\tlearn: 0.2508817\ttotal: 2.71s\tremaining: 1m\n",
            "43:\tlearn: 0.2497477\ttotal: 2.78s\tremaining: 1m\n",
            "44:\tlearn: 0.2486933\ttotal: 2.85s\tremaining: 1m\n",
            "45:\tlearn: 0.2476498\ttotal: 2.92s\tremaining: 1m\n",
            "46:\tlearn: 0.2466851\ttotal: 2.99s\tremaining: 1m\n",
            "47:\tlearn: 0.2458410\ttotal: 3.07s\tremaining: 1m\n",
            "48:\tlearn: 0.2449204\ttotal: 3.14s\tremaining: 1m\n",
            "49:\tlearn: 0.2441871\ttotal: 3.2s\tremaining: 1m\n",
            "50:\tlearn: 0.2432380\ttotal: 3.29s\tremaining: 1m 1s\n",
            "51:\tlearn: 0.2427689\ttotal: 3.35s\tremaining: 1m 1s\n",
            "52:\tlearn: 0.2417468\ttotal: 3.42s\tremaining: 1m 1s\n",
            "53:\tlearn: 0.2407386\ttotal: 3.5s\tremaining: 1m 1s\n",
            "54:\tlearn: 0.2398579\ttotal: 3.56s\tremaining: 1m 1s\n",
            "55:\tlearn: 0.2392627\ttotal: 3.63s\tremaining: 1m 1s\n",
            "56:\tlearn: 0.2386152\ttotal: 3.69s\tremaining: 1m 1s\n",
            "57:\tlearn: 0.2381158\ttotal: 3.76s\tremaining: 1m 1s\n",
            "58:\tlearn: 0.2376421\ttotal: 3.82s\tremaining: 1m\n",
            "59:\tlearn: 0.2371604\ttotal: 3.87s\tremaining: 1m\n",
            "60:\tlearn: 0.2365547\ttotal: 3.93s\tremaining: 1m\n",
            "61:\tlearn: 0.2360540\ttotal: 4s\tremaining: 1m\n",
            "62:\tlearn: 0.2355466\ttotal: 4.07s\tremaining: 1m\n",
            "63:\tlearn: 0.2347320\ttotal: 4.13s\tremaining: 1m\n",
            "64:\tlearn: 0.2342794\ttotal: 4.19s\tremaining: 1m\n",
            "65:\tlearn: 0.2339036\ttotal: 4.25s\tremaining: 1m\n",
            "66:\tlearn: 0.2332482\ttotal: 4.32s\tremaining: 1m\n",
            "67:\tlearn: 0.2328316\ttotal: 4.38s\tremaining: 60s\n",
            "68:\tlearn: 0.2321880\ttotal: 4.43s\tremaining: 59.8s\n",
            "69:\tlearn: 0.2318789\ttotal: 4.5s\tremaining: 59.7s\n",
            "70:\tlearn: 0.2315625\ttotal: 4.56s\tremaining: 59.7s\n",
            "71:\tlearn: 0.2312688\ttotal: 4.62s\tremaining: 59.5s\n",
            "72:\tlearn: 0.2309814\ttotal: 4.68s\tremaining: 59.4s\n",
            "73:\tlearn: 0.2305934\ttotal: 4.75s\tremaining: 59.4s\n",
            "74:\tlearn: 0.2302135\ttotal: 4.82s\tremaining: 59.4s\n",
            "75:\tlearn: 0.2298307\ttotal: 4.89s\tremaining: 59.4s\n",
            "76:\tlearn: 0.2294975\ttotal: 4.96s\tremaining: 59.5s\n",
            "77:\tlearn: 0.2292752\ttotal: 5.03s\tremaining: 59.4s\n",
            "78:\tlearn: 0.2289817\ttotal: 5.1s\tremaining: 59.4s\n",
            "79:\tlearn: 0.2287068\ttotal: 5.17s\tremaining: 59.4s\n",
            "80:\tlearn: 0.2283458\ttotal: 5.23s\tremaining: 59.4s\n",
            "81:\tlearn: 0.2278739\ttotal: 5.31s\tremaining: 59.4s\n",
            "82:\tlearn: 0.2275374\ttotal: 5.38s\tremaining: 59.5s\n",
            "83:\tlearn: 0.2272410\ttotal: 5.45s\tremaining: 59.4s\n",
            "84:\tlearn: 0.2270010\ttotal: 5.52s\tremaining: 59.4s\n",
            "85:\tlearn: 0.2267288\ttotal: 5.59s\tremaining: 59.4s\n",
            "86:\tlearn: 0.2263891\ttotal: 5.66s\tremaining: 59.4s\n",
            "87:\tlearn: 0.2261052\ttotal: 5.72s\tremaining: 59.3s\n",
            "88:\tlearn: 0.2258209\ttotal: 5.78s\tremaining: 59.2s\n",
            "89:\tlearn: 0.2255486\ttotal: 5.85s\tremaining: 59.1s\n",
            "90:\tlearn: 0.2253016\ttotal: 5.91s\tremaining: 59s\n",
            "91:\tlearn: 0.2250432\ttotal: 5.96s\tremaining: 58.9s\n",
            "92:\tlearn: 0.2247366\ttotal: 6.02s\tremaining: 58.8s\n",
            "93:\tlearn: 0.2244821\ttotal: 6.09s\tremaining: 58.7s\n",
            "94:\tlearn: 0.2240720\ttotal: 6.15s\tremaining: 58.6s\n",
            "95:\tlearn: 0.2238194\ttotal: 6.2s\tremaining: 58.4s\n",
            "96:\tlearn: 0.2235792\ttotal: 6.26s\tremaining: 58.3s\n",
            "97:\tlearn: 0.2233862\ttotal: 6.34s\tremaining: 58.3s\n",
            "98:\tlearn: 0.2231037\ttotal: 6.39s\tremaining: 58.2s\n",
            "99:\tlearn: 0.2227710\ttotal: 6.46s\tremaining: 58.1s\n",
            "100:\tlearn: 0.2225078\ttotal: 6.51s\tremaining: 58s\n",
            "101:\tlearn: 0.2223233\ttotal: 6.58s\tremaining: 57.9s\n",
            "102:\tlearn: 0.2219620\ttotal: 6.64s\tremaining: 57.8s\n",
            "103:\tlearn: 0.2216869\ttotal: 6.7s\tremaining: 57.7s\n",
            "104:\tlearn: 0.2214999\ttotal: 6.76s\tremaining: 57.6s\n",
            "105:\tlearn: 0.2212683\ttotal: 6.83s\tremaining: 57.6s\n",
            "106:\tlearn: 0.2211081\ttotal: 6.88s\tremaining: 57.5s\n",
            "107:\tlearn: 0.2208998\ttotal: 6.94s\tremaining: 57.3s\n",
            "108:\tlearn: 0.2206860\ttotal: 7s\tremaining: 57.2s\n",
            "109:\tlearn: 0.2204300\ttotal: 7.07s\tremaining: 57.2s\n",
            "110:\tlearn: 0.2202406\ttotal: 7.12s\tremaining: 57.1s\n",
            "111:\tlearn: 0.2200102\ttotal: 7.18s\tremaining: 56.9s\n",
            "112:\tlearn: 0.2198389\ttotal: 7.24s\tremaining: 56.8s\n",
            "113:\tlearn: 0.2196614\ttotal: 7.3s\tremaining: 56.7s\n",
            "114:\tlearn: 0.2194627\ttotal: 7.37s\tremaining: 56.7s\n",
            "115:\tlearn: 0.2193032\ttotal: 7.43s\tremaining: 56.6s\n",
            "116:\tlearn: 0.2190775\ttotal: 7.49s\tremaining: 56.5s\n",
            "117:\tlearn: 0.2188082\ttotal: 7.55s\tremaining: 56.5s\n",
            "118:\tlearn: 0.2185387\ttotal: 7.61s\tremaining: 56.3s\n",
            "119:\tlearn: 0.2182855\ttotal: 7.67s\tremaining: 56.3s\n",
            "120:\tlearn: 0.2181283\ttotal: 7.73s\tremaining: 56.1s\n",
            "121:\tlearn: 0.2179133\ttotal: 7.8s\tremaining: 56.1s\n",
            "122:\tlearn: 0.2176712\ttotal: 7.87s\tremaining: 56.1s\n",
            "123:\tlearn: 0.2174439\ttotal: 7.93s\tremaining: 56.1s\n",
            "124:\tlearn: 0.2170871\ttotal: 8.01s\tremaining: 56.1s\n",
            "125:\tlearn: 0.2169004\ttotal: 8.07s\tremaining: 56s\n",
            "126:\tlearn: 0.2166623\ttotal: 8.14s\tremaining: 56s\n",
            "127:\tlearn: 0.2164670\ttotal: 8.21s\tremaining: 55.9s\n",
            "128:\tlearn: 0.2162122\ttotal: 8.28s\tremaining: 55.9s\n",
            "129:\tlearn: 0.2160049\ttotal: 8.35s\tremaining: 55.9s\n",
            "130:\tlearn: 0.2157197\ttotal: 8.43s\tremaining: 55.9s\n",
            "131:\tlearn: 0.2155609\ttotal: 8.5s\tremaining: 55.9s\n",
            "132:\tlearn: 0.2153064\ttotal: 8.57s\tremaining: 55.9s\n",
            "133:\tlearn: 0.2151746\ttotal: 8.63s\tremaining: 55.8s\n",
            "134:\tlearn: 0.2149489\ttotal: 8.7s\tremaining: 55.8s\n",
            "135:\tlearn: 0.2147909\ttotal: 8.77s\tremaining: 55.7s\n",
            "136:\tlearn: 0.2146517\ttotal: 8.83s\tremaining: 55.6s\n",
            "137:\tlearn: 0.2144925\ttotal: 8.9s\tremaining: 55.6s\n",
            "138:\tlearn: 0.2142933\ttotal: 8.97s\tremaining: 55.6s\n",
            "139:\tlearn: 0.2141526\ttotal: 9.04s\tremaining: 55.5s\n",
            "140:\tlearn: 0.2139681\ttotal: 9.11s\tremaining: 55.5s\n",
            "141:\tlearn: 0.2137993\ttotal: 9.18s\tremaining: 55.5s\n",
            "142:\tlearn: 0.2135954\ttotal: 9.25s\tremaining: 55.4s\n",
            "143:\tlearn: 0.2134600\ttotal: 9.31s\tremaining: 55.4s\n",
            "144:\tlearn: 0.2132999\ttotal: 9.39s\tremaining: 55.3s\n",
            "145:\tlearn: 0.2130995\ttotal: 9.46s\tremaining: 55.3s\n",
            "146:\tlearn: 0.2129103\ttotal: 9.53s\tremaining: 55.3s\n",
            "147:\tlearn: 0.2127489\ttotal: 9.6s\tremaining: 55.2s\n",
            "148:\tlearn: 0.2126032\ttotal: 9.66s\tremaining: 55.2s\n",
            "149:\tlearn: 0.2124311\ttotal: 9.73s\tremaining: 55.1s\n",
            "150:\tlearn: 0.2122062\ttotal: 9.8s\tremaining: 55.1s\n",
            "151:\tlearn: 0.2121348\ttotal: 9.87s\tremaining: 55s\n",
            "152:\tlearn: 0.2119335\ttotal: 9.93s\tremaining: 55s\n",
            "153:\tlearn: 0.2117943\ttotal: 9.99s\tremaining: 54.9s\n",
            "154:\tlearn: 0.2116624\ttotal: 10.1s\tremaining: 54.9s\n",
            "155:\tlearn: 0.2115182\ttotal: 10.1s\tremaining: 54.8s\n",
            "156:\tlearn: 0.2113172\ttotal: 10.2s\tremaining: 54.7s\n",
            "157:\tlearn: 0.2111752\ttotal: 10.3s\tremaining: 54.7s\n",
            "158:\tlearn: 0.2110016\ttotal: 10.3s\tremaining: 54.7s\n",
            "159:\tlearn: 0.2109027\ttotal: 10.4s\tremaining: 54.6s\n",
            "160:\tlearn: 0.2107680\ttotal: 10.5s\tremaining: 54.6s\n",
            "161:\tlearn: 0.2105393\ttotal: 10.6s\tremaining: 54.6s\n",
            "162:\tlearn: 0.2103603\ttotal: 10.6s\tremaining: 54.5s\n",
            "163:\tlearn: 0.2101249\ttotal: 10.7s\tremaining: 54.5s\n",
            "164:\tlearn: 0.2099202\ttotal: 10.8s\tremaining: 54.4s\n",
            "165:\tlearn: 0.2097721\ttotal: 10.8s\tremaining: 54.4s\n",
            "166:\tlearn: 0.2096565\ttotal: 10.9s\tremaining: 54.3s\n",
            "167:\tlearn: 0.2094719\ttotal: 11s\tremaining: 54.3s\n",
            "168:\tlearn: 0.2092768\ttotal: 11s\tremaining: 54.2s\n",
            "169:\tlearn: 0.2091383\ttotal: 11.1s\tremaining: 54.2s\n",
            "170:\tlearn: 0.2089974\ttotal: 11.2s\tremaining: 54.1s\n",
            "171:\tlearn: 0.2088286\ttotal: 11.2s\tremaining: 54s\n",
            "172:\tlearn: 0.2086853\ttotal: 11.3s\tremaining: 54s\n",
            "173:\tlearn: 0.2085941\ttotal: 11.4s\tremaining: 53.9s\n",
            "174:\tlearn: 0.2084791\ttotal: 11.4s\tremaining: 53.9s\n",
            "175:\tlearn: 0.2083196\ttotal: 11.5s\tremaining: 53.9s\n",
            "176:\tlearn: 0.2080761\ttotal: 11.6s\tremaining: 53.8s\n",
            "177:\tlearn: 0.2079345\ttotal: 11.6s\tremaining: 53.8s\n",
            "178:\tlearn: 0.2078084\ttotal: 11.7s\tremaining: 53.7s\n",
            "179:\tlearn: 0.2076685\ttotal: 11.8s\tremaining: 53.7s\n",
            "180:\tlearn: 0.2075493\ttotal: 11.8s\tremaining: 53.6s\n",
            "181:\tlearn: 0.2073134\ttotal: 11.9s\tremaining: 53.5s\n",
            "182:\tlearn: 0.2072105\ttotal: 12s\tremaining: 53.5s\n",
            "183:\tlearn: 0.2070981\ttotal: 12.1s\tremaining: 53.5s\n",
            "184:\tlearn: 0.2069538\ttotal: 12.1s\tremaining: 53.4s\n",
            "185:\tlearn: 0.2068330\ttotal: 12.2s\tremaining: 53.3s\n",
            "186:\tlearn: 0.2066944\ttotal: 12.3s\tremaining: 53.3s\n",
            "187:\tlearn: 0.2066056\ttotal: 12.3s\tremaining: 53.3s\n",
            "188:\tlearn: 0.2064841\ttotal: 12.4s\tremaining: 53.2s\n",
            "189:\tlearn: 0.2063529\ttotal: 12.5s\tremaining: 53.2s\n",
            "190:\tlearn: 0.2062501\ttotal: 12.5s\tremaining: 53.1s\n",
            "191:\tlearn: 0.2060418\ttotal: 12.6s\tremaining: 53s\n",
            "192:\tlearn: 0.2058225\ttotal: 12.7s\tremaining: 53s\n",
            "193:\tlearn: 0.2057290\ttotal: 12.7s\tremaining: 53s\n",
            "194:\tlearn: 0.2056470\ttotal: 12.8s\tremaining: 52.9s\n",
            "195:\tlearn: 0.2055361\ttotal: 12.9s\tremaining: 52.8s\n",
            "196:\tlearn: 0.2053928\ttotal: 12.9s\tremaining: 52.7s\n",
            "197:\tlearn: 0.2052789\ttotal: 13s\tremaining: 52.6s\n",
            "198:\tlearn: 0.2051299\ttotal: 13.1s\tremaining: 52.5s\n",
            "199:\tlearn: 0.2050181\ttotal: 13.1s\tremaining: 52.4s\n",
            "200:\tlearn: 0.2048133\ttotal: 13.2s\tremaining: 52.4s\n",
            "201:\tlearn: 0.2046896\ttotal: 13.2s\tremaining: 52.3s\n",
            "202:\tlearn: 0.2044931\ttotal: 13.3s\tremaining: 52.2s\n",
            "203:\tlearn: 0.2043814\ttotal: 13.4s\tremaining: 52.1s\n",
            "204:\tlearn: 0.2042665\ttotal: 13.4s\tremaining: 52s\n",
            "205:\tlearn: 0.2041744\ttotal: 13.5s\tremaining: 52s\n",
            "206:\tlearn: 0.2040399\ttotal: 13.5s\tremaining: 51.9s\n",
            "207:\tlearn: 0.2039287\ttotal: 13.6s\tremaining: 51.8s\n",
            "208:\tlearn: 0.2038109\ttotal: 13.7s\tremaining: 51.7s\n",
            "209:\tlearn: 0.2036893\ttotal: 13.7s\tremaining: 51.6s\n",
            "210:\tlearn: 0.2035741\ttotal: 13.8s\tremaining: 51.6s\n",
            "211:\tlearn: 0.2034907\ttotal: 13.8s\tremaining: 51.5s\n",
            "212:\tlearn: 0.2032664\ttotal: 13.9s\tremaining: 51.4s\n",
            "213:\tlearn: 0.2030824\ttotal: 14s\tremaining: 51.4s\n",
            "214:\tlearn: 0.2030300\ttotal: 14.1s\tremaining: 51.3s\n",
            "215:\tlearn: 0.2028631\ttotal: 14.1s\tremaining: 51.2s\n",
            "216:\tlearn: 0.2028043\ttotal: 14.2s\tremaining: 51.2s\n",
            "217:\tlearn: 0.2026564\ttotal: 14.3s\tremaining: 51.1s\n",
            "218:\tlearn: 0.2025669\ttotal: 14.3s\tremaining: 51.1s\n",
            "219:\tlearn: 0.2024391\ttotal: 14.4s\tremaining: 51s\n",
            "220:\tlearn: 0.2023161\ttotal: 14.5s\tremaining: 51s\n",
            "221:\tlearn: 0.2021691\ttotal: 14.5s\tremaining: 51s\n",
            "222:\tlearn: 0.2020679\ttotal: 14.6s\tremaining: 50.9s\n",
            "223:\tlearn: 0.2019117\ttotal: 14.7s\tremaining: 50.8s\n",
            "224:\tlearn: 0.2017697\ttotal: 14.7s\tremaining: 50.8s\n",
            "225:\tlearn: 0.2016277\ttotal: 14.8s\tremaining: 50.7s\n",
            "226:\tlearn: 0.2014819\ttotal: 14.9s\tremaining: 50.7s\n",
            "227:\tlearn: 0.2013766\ttotal: 14.9s\tremaining: 50.6s\n",
            "228:\tlearn: 0.2012507\ttotal: 15s\tremaining: 50.5s\n",
            "229:\tlearn: 0.2011351\ttotal: 15.1s\tremaining: 50.5s\n",
            "230:\tlearn: 0.2009978\ttotal: 15.1s\tremaining: 50.4s\n",
            "231:\tlearn: 0.2008817\ttotal: 15.2s\tremaining: 50.4s\n",
            "232:\tlearn: 0.2007586\ttotal: 15.3s\tremaining: 50.3s\n",
            "233:\tlearn: 0.2006314\ttotal: 15.3s\tremaining: 50.2s\n",
            "234:\tlearn: 0.2005122\ttotal: 15.4s\tremaining: 50.2s\n",
            "235:\tlearn: 0.2004125\ttotal: 15.5s\tremaining: 50.1s\n",
            "236:\tlearn: 0.2003246\ttotal: 15.5s\tremaining: 50.1s\n",
            "237:\tlearn: 0.2002226\ttotal: 15.6s\tremaining: 50s\n",
            "238:\tlearn: 0.2001144\ttotal: 15.7s\tremaining: 50s\n",
            "239:\tlearn: 0.2000472\ttotal: 15.8s\tremaining: 49.9s\n",
            "240:\tlearn: 0.1999128\ttotal: 15.8s\tremaining: 49.8s\n",
            "241:\tlearn: 0.1998255\ttotal: 15.9s\tremaining: 49.8s\n",
            "242:\tlearn: 0.1996958\ttotal: 15.9s\tremaining: 49.7s\n",
            "243:\tlearn: 0.1996061\ttotal: 16s\tremaining: 49.6s\n",
            "244:\tlearn: 0.1994786\ttotal: 16.1s\tremaining: 49.5s\n",
            "245:\tlearn: 0.1993898\ttotal: 16.1s\tremaining: 49.4s\n",
            "246:\tlearn: 0.1991852\ttotal: 16.2s\tremaining: 49.4s\n",
            "247:\tlearn: 0.1990814\ttotal: 16.2s\tremaining: 49.3s\n",
            "248:\tlearn: 0.1989514\ttotal: 16.3s\tremaining: 49.2s\n",
            "249:\tlearn: 0.1988233\ttotal: 16.4s\tremaining: 49.1s\n",
            "250:\tlearn: 0.1987568\ttotal: 16.4s\tremaining: 49s\n",
            "251:\tlearn: 0.1986432\ttotal: 16.5s\tremaining: 48.9s\n",
            "252:\tlearn: 0.1985185\ttotal: 16.6s\tremaining: 48.9s\n",
            "253:\tlearn: 0.1984318\ttotal: 16.6s\tremaining: 48.8s\n",
            "254:\tlearn: 0.1983477\ttotal: 16.7s\tremaining: 48.7s\n",
            "255:\tlearn: 0.1982333\ttotal: 16.7s\tremaining: 48.6s\n",
            "256:\tlearn: 0.1981226\ttotal: 16.8s\tremaining: 48.5s\n",
            "257:\tlearn: 0.1980337\ttotal: 16.9s\tremaining: 48.5s\n",
            "258:\tlearn: 0.1978997\ttotal: 16.9s\tremaining: 48.4s\n",
            "259:\tlearn: 0.1977808\ttotal: 17s\tremaining: 48.3s\n",
            "260:\tlearn: 0.1976332\ttotal: 17s\tremaining: 48.2s\n",
            "261:\tlearn: 0.1975543\ttotal: 17.1s\tremaining: 48.2s\n",
            "262:\tlearn: 0.1974438\ttotal: 17.2s\tremaining: 48.1s\n",
            "263:\tlearn: 0.1973435\ttotal: 17.2s\tremaining: 48s\n",
            "264:\tlearn: 0.1972607\ttotal: 17.3s\tremaining: 47.9s\n",
            "265:\tlearn: 0.1969719\ttotal: 17.3s\tremaining: 47.8s\n",
            "266:\tlearn: 0.1968970\ttotal: 17.4s\tremaining: 47.8s\n",
            "267:\tlearn: 0.1968080\ttotal: 17.5s\tremaining: 47.7s\n",
            "268:\tlearn: 0.1967037\ttotal: 17.5s\tremaining: 47.6s\n",
            "269:\tlearn: 0.1966072\ttotal: 17.6s\tremaining: 47.6s\n",
            "270:\tlearn: 0.1965378\ttotal: 17.7s\tremaining: 47.5s\n",
            "271:\tlearn: 0.1964267\ttotal: 17.7s\tremaining: 47.4s\n",
            "272:\tlearn: 0.1963548\ttotal: 17.8s\tremaining: 47.3s\n",
            "273:\tlearn: 0.1962466\ttotal: 17.8s\tremaining: 47.2s\n",
            "274:\tlearn: 0.1961343\ttotal: 17.9s\tremaining: 47.2s\n",
            "275:\tlearn: 0.1960605\ttotal: 18s\tremaining: 47.1s\n",
            "276:\tlearn: 0.1958809\ttotal: 18s\tremaining: 47s\n",
            "277:\tlearn: 0.1958085\ttotal: 18.1s\tremaining: 47s\n",
            "278:\tlearn: 0.1956585\ttotal: 18.2s\tremaining: 46.9s\n",
            "279:\tlearn: 0.1956076\ttotal: 18.2s\tremaining: 46.9s\n",
            "280:\tlearn: 0.1954387\ttotal: 18.3s\tremaining: 46.8s\n",
            "281:\tlearn: 0.1953599\ttotal: 18.4s\tremaining: 46.7s\n",
            "282:\tlearn: 0.1952672\ttotal: 18.4s\tremaining: 46.7s\n",
            "283:\tlearn: 0.1951717\ttotal: 18.5s\tremaining: 46.6s\n",
            "284:\tlearn: 0.1950319\ttotal: 18.6s\tremaining: 46.6s\n",
            "285:\tlearn: 0.1947920\ttotal: 18.6s\tremaining: 46.5s\n",
            "286:\tlearn: 0.1947296\ttotal: 18.7s\tremaining: 46.5s\n",
            "287:\tlearn: 0.1946408\ttotal: 18.8s\tremaining: 46.4s\n",
            "288:\tlearn: 0.1945491\ttotal: 18.8s\tremaining: 46.4s\n",
            "289:\tlearn: 0.1944520\ttotal: 18.9s\tremaining: 46.3s\n",
            "290:\tlearn: 0.1943845\ttotal: 19s\tremaining: 46.2s\n",
            "291:\tlearn: 0.1942982\ttotal: 19s\tremaining: 46.2s\n",
            "292:\tlearn: 0.1941592\ttotal: 19.1s\tremaining: 46.1s\n",
            "293:\tlearn: 0.1940520\ttotal: 19.2s\tremaining: 46s\n",
            "294:\tlearn: 0.1939522\ttotal: 19.2s\tremaining: 45.9s\n",
            "295:\tlearn: 0.1938342\ttotal: 19.3s\tremaining: 45.9s\n",
            "296:\tlearn: 0.1937736\ttotal: 19.3s\tremaining: 45.8s\n",
            "297:\tlearn: 0.1936677\ttotal: 19.4s\tremaining: 45.7s\n",
            "298:\tlearn: 0.1935323\ttotal: 19.5s\tremaining: 45.6s\n",
            "299:\tlearn: 0.1933995\ttotal: 19.5s\tremaining: 45.5s\n",
            "300:\tlearn: 0.1933219\ttotal: 19.6s\tremaining: 45.5s\n",
            "301:\tlearn: 0.1932459\ttotal: 19.6s\tremaining: 45.4s\n",
            "302:\tlearn: 0.1931815\ttotal: 19.7s\tremaining: 45.3s\n",
            "303:\tlearn: 0.1930806\ttotal: 19.8s\tremaining: 45.3s\n",
            "304:\tlearn: 0.1930050\ttotal: 19.8s\tremaining: 45.2s\n",
            "305:\tlearn: 0.1928863\ttotal: 19.9s\tremaining: 45.1s\n",
            "306:\tlearn: 0.1928201\ttotal: 19.9s\tremaining: 45s\n",
            "307:\tlearn: 0.1927599\ttotal: 20s\tremaining: 45s\n",
            "308:\tlearn: 0.1926575\ttotal: 20.1s\tremaining: 44.9s\n",
            "309:\tlearn: 0.1925836\ttotal: 20.1s\tremaining: 44.8s\n",
            "310:\tlearn: 0.1924293\ttotal: 20.2s\tremaining: 44.7s\n",
            "311:\tlearn: 0.1923577\ttotal: 20.2s\tremaining: 44.7s\n",
            "312:\tlearn: 0.1922495\ttotal: 20.3s\tremaining: 44.6s\n",
            "313:\tlearn: 0.1920790\ttotal: 20.4s\tremaining: 44.5s\n",
            "314:\tlearn: 0.1919543\ttotal: 20.4s\tremaining: 44.4s\n",
            "315:\tlearn: 0.1918383\ttotal: 20.5s\tremaining: 44.4s\n",
            "316:\tlearn: 0.1917371\ttotal: 20.6s\tremaining: 44.3s\n",
            "317:\tlearn: 0.1916708\ttotal: 20.6s\tremaining: 44.2s\n",
            "318:\tlearn: 0.1916044\ttotal: 20.7s\tremaining: 44.1s\n",
            "319:\tlearn: 0.1914995\ttotal: 20.7s\tremaining: 44.1s\n",
            "320:\tlearn: 0.1914234\ttotal: 20.8s\tremaining: 44s\n",
            "321:\tlearn: 0.1913086\ttotal: 20.9s\tremaining: 43.9s\n",
            "322:\tlearn: 0.1911233\ttotal: 20.9s\tremaining: 43.9s\n",
            "323:\tlearn: 0.1910305\ttotal: 21s\tremaining: 43.8s\n",
            "324:\tlearn: 0.1908725\ttotal: 21.1s\tremaining: 43.7s\n",
            "325:\tlearn: 0.1908037\ttotal: 21.1s\tremaining: 43.7s\n",
            "326:\tlearn: 0.1907428\ttotal: 21.2s\tremaining: 43.6s\n",
            "327:\tlearn: 0.1905964\ttotal: 21.3s\tremaining: 43.5s\n",
            "328:\tlearn: 0.1904264\ttotal: 21.3s\tremaining: 43.5s\n",
            "329:\tlearn: 0.1903258\ttotal: 21.4s\tremaining: 43.5s\n",
            "330:\tlearn: 0.1902630\ttotal: 21.5s\tremaining: 43.4s\n",
            "331:\tlearn: 0.1901985\ttotal: 21.5s\tremaining: 43.3s\n",
            "332:\tlearn: 0.1901420\ttotal: 21.6s\tremaining: 43.3s\n",
            "333:\tlearn: 0.1900336\ttotal: 21.7s\tremaining: 43.2s\n",
            "334:\tlearn: 0.1898887\ttotal: 21.7s\tremaining: 43.2s\n",
            "335:\tlearn: 0.1898020\ttotal: 21.8s\tremaining: 43.1s\n",
            "336:\tlearn: 0.1896474\ttotal: 21.9s\tremaining: 43.1s\n",
            "337:\tlearn: 0.1895842\ttotal: 22s\tremaining: 43s\n",
            "338:\tlearn: 0.1895193\ttotal: 22s\tremaining: 42.9s\n",
            "339:\tlearn: 0.1894141\ttotal: 22.1s\tremaining: 42.9s\n",
            "340:\tlearn: 0.1893373\ttotal: 22.2s\tremaining: 42.8s\n",
            "341:\tlearn: 0.1892676\ttotal: 22.2s\tremaining: 42.8s\n",
            "342:\tlearn: 0.1891424\ttotal: 22.3s\tremaining: 42.7s\n",
            "343:\tlearn: 0.1890477\ttotal: 22.4s\tremaining: 42.7s\n",
            "344:\tlearn: 0.1889153\ttotal: 22.4s\tremaining: 42.6s\n",
            "345:\tlearn: 0.1888587\ttotal: 22.5s\tremaining: 42.5s\n",
            "346:\tlearn: 0.1887931\ttotal: 22.6s\tremaining: 42.5s\n",
            "347:\tlearn: 0.1887363\ttotal: 22.6s\tremaining: 42.4s\n",
            "348:\tlearn: 0.1886708\ttotal: 22.7s\tremaining: 42.4s\n",
            "349:\tlearn: 0.1885849\ttotal: 22.8s\tremaining: 42.3s\n",
            "350:\tlearn: 0.1885290\ttotal: 22.8s\tremaining: 42.2s\n",
            "351:\tlearn: 0.1884610\ttotal: 22.9s\tremaining: 42.2s\n",
            "352:\tlearn: 0.1883771\ttotal: 23s\tremaining: 42.1s\n",
            "353:\tlearn: 0.1882535\ttotal: 23s\tremaining: 42s\n",
            "354:\tlearn: 0.1881388\ttotal: 23.1s\tremaining: 42s\n",
            "355:\tlearn: 0.1880249\ttotal: 23.2s\tremaining: 41.9s\n",
            "356:\tlearn: 0.1879706\ttotal: 23.2s\tremaining: 41.8s\n",
            "357:\tlearn: 0.1878765\ttotal: 23.3s\tremaining: 41.7s\n",
            "358:\tlearn: 0.1877615\ttotal: 23.3s\tremaining: 41.7s\n",
            "359:\tlearn: 0.1877073\ttotal: 23.4s\tremaining: 41.6s\n",
            "360:\tlearn: 0.1875861\ttotal: 23.5s\tremaining: 41.5s\n",
            "361:\tlearn: 0.1874745\ttotal: 23.5s\tremaining: 41.4s\n",
            "362:\tlearn: 0.1873989\ttotal: 23.6s\tremaining: 41.4s\n",
            "363:\tlearn: 0.1872581\ttotal: 23.6s\tremaining: 41.3s\n",
            "364:\tlearn: 0.1872046\ttotal: 23.7s\tremaining: 41.2s\n",
            "365:\tlearn: 0.1870834\ttotal: 23.8s\tremaining: 41.2s\n",
            "366:\tlearn: 0.1870267\ttotal: 23.8s\tremaining: 41.1s\n",
            "367:\tlearn: 0.1869239\ttotal: 23.9s\tremaining: 41s\n",
            "368:\tlearn: 0.1868604\ttotal: 23.9s\tremaining: 40.9s\n",
            "369:\tlearn: 0.1868059\ttotal: 24s\tremaining: 40.9s\n",
            "370:\tlearn: 0.1867562\ttotal: 24.1s\tremaining: 40.8s\n",
            "371:\tlearn: 0.1866991\ttotal: 24.1s\tremaining: 40.7s\n",
            "372:\tlearn: 0.1865931\ttotal: 24.2s\tremaining: 40.6s\n",
            "373:\tlearn: 0.1864580\ttotal: 24.2s\tremaining: 40.6s\n",
            "374:\tlearn: 0.1864078\ttotal: 24.3s\tremaining: 40.5s\n",
            "375:\tlearn: 0.1863264\ttotal: 24.4s\tremaining: 40.4s\n",
            "376:\tlearn: 0.1861709\ttotal: 24.4s\tremaining: 40.3s\n",
            "377:\tlearn: 0.1861216\ttotal: 24.5s\tremaining: 40.3s\n",
            "378:\tlearn: 0.1859970\ttotal: 24.5s\tremaining: 40.2s\n",
            "379:\tlearn: 0.1858813\ttotal: 24.6s\tremaining: 40.1s\n",
            "380:\tlearn: 0.1858312\ttotal: 24.6s\tremaining: 40s\n",
            "381:\tlearn: 0.1857144\ttotal: 24.7s\tremaining: 40s\n",
            "382:\tlearn: 0.1856182\ttotal: 24.8s\tremaining: 39.9s\n",
            "383:\tlearn: 0.1855240\ttotal: 24.8s\tremaining: 39.9s\n",
            "384:\tlearn: 0.1853928\ttotal: 24.9s\tremaining: 39.8s\n",
            "385:\tlearn: 0.1852618\ttotal: 25s\tremaining: 39.7s\n",
            "386:\tlearn: 0.1852089\ttotal: 25s\tremaining: 39.6s\n",
            "387:\tlearn: 0.1851207\ttotal: 25.1s\tremaining: 39.6s\n",
            "388:\tlearn: 0.1850699\ttotal: 25.2s\tremaining: 39.5s\n",
            "389:\tlearn: 0.1849737\ttotal: 25.2s\tremaining: 39.5s\n",
            "390:\tlearn: 0.1849004\ttotal: 25.3s\tremaining: 39.4s\n",
            "391:\tlearn: 0.1848425\ttotal: 25.4s\tremaining: 39.3s\n",
            "392:\tlearn: 0.1847232\ttotal: 25.4s\tremaining: 39.3s\n",
            "393:\tlearn: 0.1846447\ttotal: 25.5s\tremaining: 39.2s\n",
            "394:\tlearn: 0.1844470\ttotal: 25.6s\tremaining: 39.1s\n",
            "395:\tlearn: 0.1843771\ttotal: 25.6s\tremaining: 39.1s\n",
            "396:\tlearn: 0.1843219\ttotal: 25.7s\tremaining: 39s\n",
            "397:\tlearn: 0.1841727\ttotal: 25.8s\tremaining: 39s\n",
            "398:\tlearn: 0.1841239\ttotal: 25.8s\tremaining: 38.9s\n",
            "399:\tlearn: 0.1840730\ttotal: 25.9s\tremaining: 38.9s\n",
            "400:\tlearn: 0.1839296\ttotal: 26s\tremaining: 38.8s\n",
            "401:\tlearn: 0.1838571\ttotal: 26s\tremaining: 38.7s\n",
            "402:\tlearn: 0.1837163\ttotal: 26.1s\tremaining: 38.7s\n",
            "403:\tlearn: 0.1836381\ttotal: 26.2s\tremaining: 38.6s\n",
            "404:\tlearn: 0.1835270\ttotal: 26.2s\tremaining: 38.5s\n",
            "405:\tlearn: 0.1833849\ttotal: 26.3s\tremaining: 38.5s\n",
            "406:\tlearn: 0.1832629\ttotal: 26.4s\tremaining: 38.4s\n",
            "407:\tlearn: 0.1831239\ttotal: 26.4s\tremaining: 38.4s\n",
            "408:\tlearn: 0.1830708\ttotal: 26.5s\tremaining: 38.3s\n",
            "409:\tlearn: 0.1830059\ttotal: 26.6s\tremaining: 38.2s\n",
            "410:\tlearn: 0.1829558\ttotal: 26.6s\tremaining: 38.2s\n",
            "411:\tlearn: 0.1828868\ttotal: 26.7s\tremaining: 38.1s\n",
            "412:\tlearn: 0.1827696\ttotal: 26.8s\tremaining: 38.1s\n",
            "413:\tlearn: 0.1826974\ttotal: 26.8s\tremaining: 38s\n",
            "414:\tlearn: 0.1825814\ttotal: 26.9s\tremaining: 37.9s\n",
            "415:\tlearn: 0.1824872\ttotal: 27s\tremaining: 37.9s\n",
            "416:\tlearn: 0.1823635\ttotal: 27.1s\tremaining: 37.8s\n",
            "417:\tlearn: 0.1823123\ttotal: 27.1s\tremaining: 37.8s\n",
            "418:\tlearn: 0.1821678\ttotal: 27.2s\tremaining: 37.7s\n",
            "419:\tlearn: 0.1821212\ttotal: 27.3s\tremaining: 37.6s\n",
            "420:\tlearn: 0.1820744\ttotal: 27.3s\tremaining: 37.6s\n",
            "421:\tlearn: 0.1819720\ttotal: 27.4s\tremaining: 37.5s\n",
            "422:\tlearn: 0.1818247\ttotal: 27.5s\tremaining: 37.5s\n",
            "423:\tlearn: 0.1817733\ttotal: 27.5s\tremaining: 37.4s\n",
            "424:\tlearn: 0.1815982\ttotal: 27.6s\tremaining: 37.3s\n",
            "425:\tlearn: 0.1813056\ttotal: 27.7s\tremaining: 37.3s\n",
            "426:\tlearn: 0.1812570\ttotal: 27.7s\tremaining: 37.2s\n",
            "427:\tlearn: 0.1812121\ttotal: 27.8s\tremaining: 37.2s\n",
            "428:\tlearn: 0.1810782\ttotal: 27.9s\tremaining: 37.1s\n",
            "429:\tlearn: 0.1809846\ttotal: 27.9s\tremaining: 37s\n",
            "430:\tlearn: 0.1808342\ttotal: 28s\tremaining: 37s\n",
            "431:\tlearn: 0.1807320\ttotal: 28.1s\tremaining: 36.9s\n",
            "432:\tlearn: 0.1806646\ttotal: 28.1s\tremaining: 36.8s\n",
            "433:\tlearn: 0.1806198\ttotal: 28.2s\tremaining: 36.8s\n",
            "434:\tlearn: 0.1805157\ttotal: 28.3s\tremaining: 36.7s\n",
            "435:\tlearn: 0.1804558\ttotal: 28.3s\tremaining: 36.6s\n",
            "436:\tlearn: 0.1803673\ttotal: 28.4s\tremaining: 36.6s\n",
            "437:\tlearn: 0.1803239\ttotal: 28.4s\tremaining: 36.5s\n",
            "438:\tlearn: 0.1802636\ttotal: 28.5s\tremaining: 36.4s\n",
            "439:\tlearn: 0.1801251\ttotal: 28.5s\tremaining: 36.3s\n",
            "440:\tlearn: 0.1800566\ttotal: 28.6s\tremaining: 36.3s\n",
            "441:\tlearn: 0.1800110\ttotal: 28.7s\tremaining: 36.2s\n",
            "442:\tlearn: 0.1798524\ttotal: 28.7s\tremaining: 36.1s\n",
            "443:\tlearn: 0.1798048\ttotal: 28.8s\tremaining: 36.1s\n",
            "444:\tlearn: 0.1797484\ttotal: 28.9s\tremaining: 36s\n",
            "445:\tlearn: 0.1796988\ttotal: 28.9s\tremaining: 35.9s\n",
            "446:\tlearn: 0.1796558\ttotal: 29s\tremaining: 35.8s\n",
            "447:\tlearn: 0.1796054\ttotal: 29s\tremaining: 35.8s\n",
            "448:\tlearn: 0.1795624\ttotal: 29.1s\tremaining: 35.7s\n",
            "449:\tlearn: 0.1795052\ttotal: 29.1s\tremaining: 35.6s\n",
            "450:\tlearn: 0.1794646\ttotal: 29.2s\tremaining: 35.6s\n",
            "451:\tlearn: 0.1794157\ttotal: 29.3s\tremaining: 35.5s\n",
            "452:\tlearn: 0.1793724\ttotal: 29.3s\tremaining: 35.4s\n",
            "453:\tlearn: 0.1792086\ttotal: 29.4s\tremaining: 35.3s\n",
            "454:\tlearn: 0.1790441\ttotal: 29.4s\tremaining: 35.3s\n",
            "455:\tlearn: 0.1789436\ttotal: 29.5s\tremaining: 35.2s\n",
            "456:\tlearn: 0.1788436\ttotal: 29.6s\tremaining: 35.1s\n",
            "457:\tlearn: 0.1787898\ttotal: 29.6s\tremaining: 35.1s\n",
            "458:\tlearn: 0.1787208\ttotal: 29.7s\tremaining: 35s\n",
            "459:\tlearn: 0.1786575\ttotal: 29.8s\tremaining: 34.9s\n",
            "460:\tlearn: 0.1786170\ttotal: 29.8s\tremaining: 34.9s\n",
            "461:\tlearn: 0.1785175\ttotal: 29.9s\tremaining: 34.8s\n",
            "462:\tlearn: 0.1784751\ttotal: 29.9s\tremaining: 34.7s\n",
            "463:\tlearn: 0.1783402\ttotal: 30s\tremaining: 34.7s\n",
            "464:\tlearn: 0.1782715\ttotal: 30.1s\tremaining: 34.6s\n",
            "465:\tlearn: 0.1781864\ttotal: 30.1s\tremaining: 34.5s\n",
            "466:\tlearn: 0.1780886\ttotal: 30.2s\tremaining: 34.4s\n",
            "467:\tlearn: 0.1780263\ttotal: 30.2s\tremaining: 34.4s\n",
            "468:\tlearn: 0.1779850\ttotal: 30.3s\tremaining: 34.3s\n",
            "469:\tlearn: 0.1778779\ttotal: 30.4s\tremaining: 34.2s\n",
            "470:\tlearn: 0.1777501\ttotal: 30.4s\tremaining: 34.2s\n",
            "471:\tlearn: 0.1775864\ttotal: 30.5s\tremaining: 34.1s\n",
            "472:\tlearn: 0.1774055\ttotal: 30.5s\tremaining: 34s\n",
            "473:\tlearn: 0.1773619\ttotal: 30.6s\tremaining: 33.9s\n",
            "474:\tlearn: 0.1772770\ttotal: 30.6s\tremaining: 33.9s\n",
            "475:\tlearn: 0.1771692\ttotal: 30.7s\tremaining: 33.8s\n",
            "476:\tlearn: 0.1770908\ttotal: 30.8s\tremaining: 33.7s\n",
            "477:\tlearn: 0.1770000\ttotal: 30.8s\tremaining: 33.7s\n",
            "478:\tlearn: 0.1769476\ttotal: 30.9s\tremaining: 33.6s\n",
            "479:\tlearn: 0.1767850\ttotal: 30.9s\tremaining: 33.5s\n",
            "480:\tlearn: 0.1767463\ttotal: 31s\tremaining: 33.5s\n",
            "481:\tlearn: 0.1766166\ttotal: 31.1s\tremaining: 33.4s\n",
            "482:\tlearn: 0.1765793\ttotal: 31.1s\tremaining: 33.3s\n",
            "483:\tlearn: 0.1765104\ttotal: 31.2s\tremaining: 33.2s\n",
            "484:\tlearn: 0.1764220\ttotal: 31.2s\tremaining: 33.2s\n",
            "485:\tlearn: 0.1763837\ttotal: 31.3s\tremaining: 33.1s\n",
            "486:\tlearn: 0.1763463\ttotal: 31.4s\tremaining: 33s\n",
            "487:\tlearn: 0.1762211\ttotal: 31.4s\tremaining: 33s\n",
            "488:\tlearn: 0.1761784\ttotal: 31.5s\tremaining: 32.9s\n",
            "489:\tlearn: 0.1761208\ttotal: 31.5s\tremaining: 32.8s\n",
            "490:\tlearn: 0.1760256\ttotal: 31.6s\tremaining: 32.8s\n",
            "491:\tlearn: 0.1759061\ttotal: 31.7s\tremaining: 32.7s\n",
            "492:\tlearn: 0.1758692\ttotal: 31.7s\tremaining: 32.6s\n",
            "493:\tlearn: 0.1757215\ttotal: 31.8s\tremaining: 32.5s\n",
            "494:\tlearn: 0.1755833\ttotal: 31.8s\tremaining: 32.5s\n",
            "495:\tlearn: 0.1755157\ttotal: 31.9s\tremaining: 32.4s\n",
            "496:\tlearn: 0.1754786\ttotal: 32s\tremaining: 32.4s\n",
            "497:\tlearn: 0.1754154\ttotal: 32s\tremaining: 32.3s\n",
            "498:\tlearn: 0.1753806\ttotal: 32.1s\tremaining: 32.2s\n",
            "499:\tlearn: 0.1753255\ttotal: 32.1s\tremaining: 32.1s\n",
            "500:\tlearn: 0.1752898\ttotal: 32.2s\tremaining: 32.1s\n",
            "501:\tlearn: 0.1752534\ttotal: 32.3s\tremaining: 32s\n",
            "502:\tlearn: 0.1750396\ttotal: 32.3s\tremaining: 31.9s\n",
            "503:\tlearn: 0.1749134\ttotal: 32.4s\tremaining: 31.9s\n",
            "504:\tlearn: 0.1748772\ttotal: 32.4s\tremaining: 31.8s\n",
            "505:\tlearn: 0.1748331\ttotal: 32.5s\tremaining: 31.7s\n",
            "506:\tlearn: 0.1747436\ttotal: 32.6s\tremaining: 31.7s\n",
            "507:\tlearn: 0.1747088\ttotal: 32.6s\tremaining: 31.6s\n",
            "508:\tlearn: 0.1746747\ttotal: 32.7s\tremaining: 31.5s\n",
            "509:\tlearn: 0.1745063\ttotal: 32.7s\tremaining: 31.5s\n",
            "510:\tlearn: 0.1743121\ttotal: 32.8s\tremaining: 31.4s\n",
            "511:\tlearn: 0.1742798\ttotal: 32.9s\tremaining: 31.3s\n",
            "512:\tlearn: 0.1742361\ttotal: 32.9s\tremaining: 31.3s\n",
            "513:\tlearn: 0.1741550\ttotal: 33s\tremaining: 31.2s\n",
            "514:\tlearn: 0.1741206\ttotal: 33s\tremaining: 31.1s\n",
            "515:\tlearn: 0.1740772\ttotal: 33.1s\tremaining: 31.1s\n",
            "516:\tlearn: 0.1740427\ttotal: 33.2s\tremaining: 31s\n",
            "517:\tlearn: 0.1739374\ttotal: 33.2s\tremaining: 30.9s\n",
            "518:\tlearn: 0.1739035\ttotal: 33.3s\tremaining: 30.8s\n",
            "519:\tlearn: 0.1738605\ttotal: 33.4s\tremaining: 30.8s\n",
            "520:\tlearn: 0.1737526\ttotal: 33.4s\tremaining: 30.7s\n",
            "521:\tlearn: 0.1737203\ttotal: 33.5s\tremaining: 30.6s\n",
            "522:\tlearn: 0.1736164\ttotal: 33.5s\tremaining: 30.6s\n",
            "523:\tlearn: 0.1735117\ttotal: 33.6s\tremaining: 30.5s\n",
            "524:\tlearn: 0.1734255\ttotal: 33.6s\tremaining: 30.4s\n",
            "525:\tlearn: 0.1733300\ttotal: 33.7s\tremaining: 30.4s\n",
            "526:\tlearn: 0.1732107\ttotal: 33.8s\tremaining: 30.3s\n",
            "527:\tlearn: 0.1731692\ttotal: 33.8s\tremaining: 30.3s\n",
            "528:\tlearn: 0.1731188\ttotal: 33.9s\tremaining: 30.2s\n",
            "529:\tlearn: 0.1730099\ttotal: 34s\tremaining: 30.1s\n",
            "530:\tlearn: 0.1729308\ttotal: 34s\tremaining: 30s\n",
            "531:\tlearn: 0.1728975\ttotal: 34.1s\tremaining: 30s\n",
            "532:\tlearn: 0.1728226\ttotal: 34.1s\tremaining: 29.9s\n",
            "533:\tlearn: 0.1726860\ttotal: 34.2s\tremaining: 29.8s\n",
            "534:\tlearn: 0.1725991\ttotal: 34.3s\tremaining: 29.8s\n",
            "535:\tlearn: 0.1724402\ttotal: 34.3s\tremaining: 29.7s\n",
            "536:\tlearn: 0.1724007\ttotal: 34.4s\tremaining: 29.6s\n",
            "537:\tlearn: 0.1723702\ttotal: 34.4s\tremaining: 29.6s\n",
            "538:\tlearn: 0.1723049\ttotal: 34.5s\tremaining: 29.5s\n",
            "539:\tlearn: 0.1722639\ttotal: 34.6s\tremaining: 29.4s\n",
            "540:\tlearn: 0.1722134\ttotal: 34.6s\tremaining: 29.4s\n",
            "541:\tlearn: 0.1721240\ttotal: 34.7s\tremaining: 29.3s\n",
            "542:\tlearn: 0.1720419\ttotal: 34.7s\tremaining: 29.2s\n",
            "543:\tlearn: 0.1719674\ttotal: 34.8s\tremaining: 29.2s\n",
            "544:\tlearn: 0.1718609\ttotal: 34.9s\tremaining: 29.1s\n",
            "545:\tlearn: 0.1717220\ttotal: 34.9s\tremaining: 29s\n",
            "546:\tlearn: 0.1716479\ttotal: 35s\tremaining: 29s\n",
            "547:\tlearn: 0.1716060\ttotal: 35s\tremaining: 28.9s\n",
            "548:\tlearn: 0.1715220\ttotal: 35.1s\tremaining: 28.8s\n",
            "549:\tlearn: 0.1714825\ttotal: 35.2s\tremaining: 28.8s\n",
            "550:\tlearn: 0.1713960\ttotal: 35.2s\tremaining: 28.7s\n",
            "551:\tlearn: 0.1712901\ttotal: 35.3s\tremaining: 28.7s\n",
            "552:\tlearn: 0.1712580\ttotal: 35.4s\tremaining: 28.6s\n",
            "553:\tlearn: 0.1712259\ttotal: 35.4s\tremaining: 28.5s\n",
            "554:\tlearn: 0.1711349\ttotal: 35.5s\tremaining: 28.5s\n",
            "555:\tlearn: 0.1709962\ttotal: 35.6s\tremaining: 28.4s\n",
            "556:\tlearn: 0.1709049\ttotal: 35.6s\tremaining: 28.3s\n",
            "557:\tlearn: 0.1708728\ttotal: 35.7s\tremaining: 28.3s\n",
            "558:\tlearn: 0.1708327\ttotal: 35.8s\tremaining: 28.2s\n",
            "559:\tlearn: 0.1707756\ttotal: 35.8s\tremaining: 28.2s\n",
            "560:\tlearn: 0.1707453\ttotal: 35.9s\tremaining: 28.1s\n",
            "561:\tlearn: 0.1707138\ttotal: 36s\tremaining: 28s\n",
            "562:\tlearn: 0.1706473\ttotal: 36.1s\tremaining: 28s\n",
            "563:\tlearn: 0.1706015\ttotal: 36.1s\tremaining: 27.9s\n",
            "564:\tlearn: 0.1705083\ttotal: 36.2s\tremaining: 27.9s\n",
            "565:\tlearn: 0.1704007\ttotal: 36.3s\tremaining: 27.8s\n",
            "566:\tlearn: 0.1703589\ttotal: 36.4s\tremaining: 27.8s\n",
            "567:\tlearn: 0.1702559\ttotal: 36.4s\tremaining: 27.7s\n",
            "568:\tlearn: 0.1702237\ttotal: 36.5s\tremaining: 27.6s\n",
            "569:\tlearn: 0.1701514\ttotal: 36.6s\tremaining: 27.6s\n",
            "570:\tlearn: 0.1701219\ttotal: 36.6s\tremaining: 27.5s\n",
            "571:\tlearn: 0.1700109\ttotal: 36.7s\tremaining: 27.5s\n",
            "572:\tlearn: 0.1699710\ttotal: 36.8s\tremaining: 27.4s\n",
            "573:\tlearn: 0.1698958\ttotal: 36.8s\tremaining: 27.3s\n",
            "574:\tlearn: 0.1698670\ttotal: 36.9s\tremaining: 27.3s\n",
            "575:\tlearn: 0.1698381\ttotal: 37s\tremaining: 27.2s\n",
            "576:\tlearn: 0.1697255\ttotal: 37s\tremaining: 27.2s\n",
            "577:\tlearn: 0.1696081\ttotal: 37.1s\tremaining: 27.1s\n",
            "578:\tlearn: 0.1695787\ttotal: 37.2s\tremaining: 27s\n",
            "579:\tlearn: 0.1695223\ttotal: 37.2s\tremaining: 27s\n",
            "580:\tlearn: 0.1694557\ttotal: 37.3s\tremaining: 26.9s\n",
            "581:\tlearn: 0.1693607\ttotal: 37.4s\tremaining: 26.8s\n",
            "582:\tlearn: 0.1692360\ttotal: 37.4s\tremaining: 26.8s\n",
            "583:\tlearn: 0.1691987\ttotal: 37.5s\tremaining: 26.7s\n",
            "584:\tlearn: 0.1691614\ttotal: 37.6s\tremaining: 26.7s\n",
            "585:\tlearn: 0.1691230\ttotal: 37.6s\tremaining: 26.6s\n",
            "586:\tlearn: 0.1690287\ttotal: 37.7s\tremaining: 26.5s\n",
            "587:\tlearn: 0.1689243\ttotal: 37.8s\tremaining: 26.5s\n",
            "588:\tlearn: 0.1688960\ttotal: 37.9s\tremaining: 26.4s\n",
            "589:\tlearn: 0.1688433\ttotal: 37.9s\tremaining: 26.4s\n",
            "590:\tlearn: 0.1687983\ttotal: 38s\tremaining: 26.3s\n",
            "591:\tlearn: 0.1687556\ttotal: 38.1s\tremaining: 26.2s\n",
            "592:\tlearn: 0.1686843\ttotal: 38.1s\tremaining: 26.2s\n",
            "593:\tlearn: 0.1685946\ttotal: 38.2s\tremaining: 26.1s\n",
            "594:\tlearn: 0.1685526\ttotal: 38.3s\tremaining: 26.1s\n",
            "595:\tlearn: 0.1685238\ttotal: 38.3s\tremaining: 26s\n",
            "596:\tlearn: 0.1684132\ttotal: 38.4s\tremaining: 25.9s\n",
            "597:\tlearn: 0.1683571\ttotal: 38.5s\tremaining: 25.9s\n",
            "598:\tlearn: 0.1682679\ttotal: 38.5s\tremaining: 25.8s\n",
            "599:\tlearn: 0.1681827\ttotal: 38.6s\tremaining: 25.7s\n",
            "600:\tlearn: 0.1681538\ttotal: 38.7s\tremaining: 25.7s\n",
            "601:\tlearn: 0.1680573\ttotal: 38.7s\tremaining: 25.6s\n",
            "602:\tlearn: 0.1680308\ttotal: 38.8s\tremaining: 25.6s\n",
            "603:\tlearn: 0.1679498\ttotal: 38.9s\tremaining: 25.5s\n",
            "604:\tlearn: 0.1679148\ttotal: 39s\tremaining: 25.4s\n",
            "605:\tlearn: 0.1678539\ttotal: 39s\tremaining: 25.4s\n",
            "606:\tlearn: 0.1677591\ttotal: 39.1s\tremaining: 25.3s\n",
            "607:\tlearn: 0.1677320\ttotal: 39.2s\tremaining: 25.2s\n",
            "608:\tlearn: 0.1676746\ttotal: 39.2s\tremaining: 25.2s\n",
            "609:\tlearn: 0.1675690\ttotal: 39.3s\tremaining: 25.1s\n",
            "610:\tlearn: 0.1675337\ttotal: 39.4s\tremaining: 25.1s\n",
            "611:\tlearn: 0.1674196\ttotal: 39.4s\tremaining: 25s\n",
            "612:\tlearn: 0.1673420\ttotal: 39.5s\tremaining: 24.9s\n",
            "613:\tlearn: 0.1673142\ttotal: 39.5s\tremaining: 24.9s\n",
            "614:\tlearn: 0.1672784\ttotal: 39.6s\tremaining: 24.8s\n",
            "615:\tlearn: 0.1672398\ttotal: 39.6s\tremaining: 24.7s\n",
            "616:\tlearn: 0.1671558\ttotal: 39.7s\tremaining: 24.7s\n",
            "617:\tlearn: 0.1670620\ttotal: 39.8s\tremaining: 24.6s\n",
            "618:\tlearn: 0.1670104\ttotal: 39.8s\tremaining: 24.5s\n",
            "619:\tlearn: 0.1669705\ttotal: 39.9s\tremaining: 24.4s\n",
            "620:\tlearn: 0.1669343\ttotal: 40s\tremaining: 24.4s\n",
            "621:\tlearn: 0.1668469\ttotal: 40s\tremaining: 24.3s\n",
            "622:\tlearn: 0.1667569\ttotal: 40.1s\tremaining: 24.3s\n",
            "623:\tlearn: 0.1666936\ttotal: 40.1s\tremaining: 24.2s\n",
            "624:\tlearn: 0.1666662\ttotal: 40.2s\tremaining: 24.1s\n",
            "625:\tlearn: 0.1665646\ttotal: 40.3s\tremaining: 24.1s\n",
            "626:\tlearn: 0.1664646\ttotal: 40.3s\tremaining: 24s\n",
            "627:\tlearn: 0.1664159\ttotal: 40.4s\tremaining: 23.9s\n",
            "628:\tlearn: 0.1663766\ttotal: 40.4s\tremaining: 23.9s\n",
            "629:\tlearn: 0.1663300\ttotal: 40.5s\tremaining: 23.8s\n",
            "630:\tlearn: 0.1662858\ttotal: 40.6s\tremaining: 23.7s\n",
            "631:\tlearn: 0.1662239\ttotal: 40.6s\tremaining: 23.7s\n",
            "632:\tlearn: 0.1661275\ttotal: 40.7s\tremaining: 23.6s\n",
            "633:\tlearn: 0.1660357\ttotal: 40.7s\tremaining: 23.5s\n",
            "634:\tlearn: 0.1659568\ttotal: 40.8s\tremaining: 23.4s\n",
            "635:\tlearn: 0.1659321\ttotal: 40.9s\tremaining: 23.4s\n",
            "636:\tlearn: 0.1658827\ttotal: 40.9s\tremaining: 23.3s\n",
            "637:\tlearn: 0.1658091\ttotal: 41s\tremaining: 23.3s\n",
            "638:\tlearn: 0.1657385\ttotal: 41s\tremaining: 23.2s\n",
            "639:\tlearn: 0.1657136\ttotal: 41.1s\tremaining: 23.1s\n",
            "640:\tlearn: 0.1656025\ttotal: 41.2s\tremaining: 23.1s\n",
            "641:\tlearn: 0.1655407\ttotal: 41.2s\tremaining: 23s\n",
            "642:\tlearn: 0.1654896\ttotal: 41.3s\tremaining: 22.9s\n",
            "643:\tlearn: 0.1654625\ttotal: 41.3s\tremaining: 22.9s\n",
            "644:\tlearn: 0.1653711\ttotal: 41.4s\tremaining: 22.8s\n",
            "645:\tlearn: 0.1652858\ttotal: 41.5s\tremaining: 22.7s\n",
            "646:\tlearn: 0.1652520\ttotal: 41.5s\tremaining: 22.7s\n",
            "647:\tlearn: 0.1651796\ttotal: 41.6s\tremaining: 22.6s\n",
            "648:\tlearn: 0.1651422\ttotal: 41.6s\tremaining: 22.5s\n",
            "649:\tlearn: 0.1650572\ttotal: 41.7s\tremaining: 22.4s\n",
            "650:\tlearn: 0.1649413\ttotal: 41.7s\tremaining: 22.4s\n",
            "651:\tlearn: 0.1648451\ttotal: 41.8s\tremaining: 22.3s\n",
            "652:\tlearn: 0.1647876\ttotal: 41.9s\tremaining: 22.3s\n",
            "653:\tlearn: 0.1647599\ttotal: 41.9s\tremaining: 22.2s\n",
            "654:\tlearn: 0.1647250\ttotal: 42s\tremaining: 22.1s\n",
            "655:\tlearn: 0.1646638\ttotal: 42.1s\tremaining: 22.1s\n",
            "656:\tlearn: 0.1645774\ttotal: 42.1s\tremaining: 22s\n",
            "657:\tlearn: 0.1645440\ttotal: 42.2s\tremaining: 21.9s\n",
            "658:\tlearn: 0.1644647\ttotal: 42.2s\tremaining: 21.9s\n",
            "659:\tlearn: 0.1644315\ttotal: 42.3s\tremaining: 21.8s\n",
            "660:\tlearn: 0.1643953\ttotal: 42.4s\tremaining: 21.7s\n",
            "661:\tlearn: 0.1642782\ttotal: 42.4s\tremaining: 21.7s\n",
            "662:\tlearn: 0.1642532\ttotal: 42.5s\tremaining: 21.6s\n",
            "663:\tlearn: 0.1642172\ttotal: 42.6s\tremaining: 21.5s\n",
            "664:\tlearn: 0.1641042\ttotal: 42.6s\tremaining: 21.5s\n",
            "665:\tlearn: 0.1640343\ttotal: 42.7s\tremaining: 21.4s\n",
            "666:\tlearn: 0.1639854\ttotal: 42.8s\tremaining: 21.3s\n",
            "667:\tlearn: 0.1639348\ttotal: 42.8s\tremaining: 21.3s\n",
            "668:\tlearn: 0.1638607\ttotal: 42.9s\tremaining: 21.2s\n",
            "669:\tlearn: 0.1638153\ttotal: 43s\tremaining: 21.2s\n",
            "670:\tlearn: 0.1637893\ttotal: 43s\tremaining: 21.1s\n",
            "671:\tlearn: 0.1636925\ttotal: 43.1s\tremaining: 21s\n",
            "672:\tlearn: 0.1636481\ttotal: 43.2s\tremaining: 21s\n",
            "673:\tlearn: 0.1635836\ttotal: 43.2s\tremaining: 20.9s\n",
            "674:\tlearn: 0.1635179\ttotal: 43.3s\tremaining: 20.9s\n",
            "675:\tlearn: 0.1634615\ttotal: 43.4s\tremaining: 20.8s\n",
            "676:\tlearn: 0.1634340\ttotal: 43.4s\tremaining: 20.7s\n",
            "677:\tlearn: 0.1633999\ttotal: 43.5s\tremaining: 20.7s\n",
            "678:\tlearn: 0.1633751\ttotal: 43.6s\tremaining: 20.6s\n",
            "679:\tlearn: 0.1633393\ttotal: 43.6s\tremaining: 20.5s\n",
            "680:\tlearn: 0.1632714\ttotal: 43.7s\tremaining: 20.5s\n",
            "681:\tlearn: 0.1631983\ttotal: 43.8s\tremaining: 20.4s\n",
            "682:\tlearn: 0.1631717\ttotal: 43.8s\tremaining: 20.4s\n",
            "683:\tlearn: 0.1631471\ttotal: 43.9s\tremaining: 20.3s\n",
            "684:\tlearn: 0.1630627\ttotal: 44s\tremaining: 20.2s\n",
            "685:\tlearn: 0.1630211\ttotal: 44.1s\tremaining: 20.2s\n",
            "686:\tlearn: 0.1629966\ttotal: 44.1s\tremaining: 20.1s\n",
            "687:\tlearn: 0.1629243\ttotal: 44.2s\tremaining: 20s\n",
            "688:\tlearn: 0.1628896\ttotal: 44.3s\tremaining: 20s\n",
            "689:\tlearn: 0.1627904\ttotal: 44.3s\tremaining: 19.9s\n",
            "690:\tlearn: 0.1627071\ttotal: 44.4s\tremaining: 19.8s\n",
            "691:\tlearn: 0.1626745\ttotal: 44.4s\tremaining: 19.8s\n",
            "692:\tlearn: 0.1625815\ttotal: 44.5s\tremaining: 19.7s\n",
            "693:\tlearn: 0.1625571\ttotal: 44.6s\tremaining: 19.7s\n",
            "694:\tlearn: 0.1624766\ttotal: 44.6s\tremaining: 19.6s\n",
            "695:\tlearn: 0.1624409\ttotal: 44.7s\tremaining: 19.5s\n",
            "696:\tlearn: 0.1623430\ttotal: 44.7s\tremaining: 19.5s\n",
            "697:\tlearn: 0.1623185\ttotal: 44.8s\tremaining: 19.4s\n",
            "698:\tlearn: 0.1622373\ttotal: 44.9s\tremaining: 19.3s\n",
            "699:\tlearn: 0.1621795\ttotal: 44.9s\tremaining: 19.3s\n",
            "700:\tlearn: 0.1621362\ttotal: 45s\tremaining: 19.2s\n",
            "701:\tlearn: 0.1621037\ttotal: 45.1s\tremaining: 19.1s\n",
            "702:\tlearn: 0.1620252\ttotal: 45.1s\tremaining: 19.1s\n",
            "703:\tlearn: 0.1619982\ttotal: 45.2s\tremaining: 19s\n",
            "704:\tlearn: 0.1619754\ttotal: 45.2s\tremaining: 18.9s\n",
            "705:\tlearn: 0.1618813\ttotal: 45.3s\tremaining: 18.9s\n",
            "706:\tlearn: 0.1618550\ttotal: 45.4s\tremaining: 18.8s\n",
            "707:\tlearn: 0.1618304\ttotal: 45.4s\tremaining: 18.7s\n",
            "708:\tlearn: 0.1618060\ttotal: 45.5s\tremaining: 18.7s\n",
            "709:\tlearn: 0.1617001\ttotal: 45.5s\tremaining: 18.6s\n",
            "710:\tlearn: 0.1616736\ttotal: 45.6s\tremaining: 18.5s\n",
            "711:\tlearn: 0.1616172\ttotal: 45.7s\tremaining: 18.5s\n",
            "712:\tlearn: 0.1615927\ttotal: 45.7s\tremaining: 18.4s\n",
            "713:\tlearn: 0.1615311\ttotal: 45.8s\tremaining: 18.3s\n",
            "714:\tlearn: 0.1615073\ttotal: 45.8s\tremaining: 18.3s\n",
            "715:\tlearn: 0.1614365\ttotal: 45.9s\tremaining: 18.2s\n",
            "716:\tlearn: 0.1613690\ttotal: 46s\tremaining: 18.1s\n",
            "717:\tlearn: 0.1613027\ttotal: 46s\tremaining: 18.1s\n",
            "718:\tlearn: 0.1612787\ttotal: 46.1s\tremaining: 18s\n",
            "719:\tlearn: 0.1611904\ttotal: 46.1s\tremaining: 17.9s\n",
            "720:\tlearn: 0.1611501\ttotal: 46.2s\tremaining: 17.9s\n",
            "721:\tlearn: 0.1611177\ttotal: 46.3s\tremaining: 17.8s\n",
            "722:\tlearn: 0.1610683\ttotal: 46.3s\tremaining: 17.7s\n",
            "723:\tlearn: 0.1610023\ttotal: 46.4s\tremaining: 17.7s\n",
            "724:\tlearn: 0.1609658\ttotal: 46.4s\tremaining: 17.6s\n",
            "725:\tlearn: 0.1609411\ttotal: 46.5s\tremaining: 17.6s\n",
            "726:\tlearn: 0.1609080\ttotal: 46.6s\tremaining: 17.5s\n",
            "727:\tlearn: 0.1608657\ttotal: 46.6s\tremaining: 17.4s\n",
            "728:\tlearn: 0.1608014\ttotal: 46.7s\tremaining: 17.4s\n",
            "729:\tlearn: 0.1607773\ttotal: 46.8s\tremaining: 17.3s\n",
            "730:\tlearn: 0.1607541\ttotal: 46.8s\tremaining: 17.2s\n",
            "731:\tlearn: 0.1607202\ttotal: 46.9s\tremaining: 17.2s\n",
            "732:\tlearn: 0.1606556\ttotal: 47s\tremaining: 17.1s\n",
            "733:\tlearn: 0.1606002\ttotal: 47s\tremaining: 17s\n",
            "734:\tlearn: 0.1605761\ttotal: 47.1s\tremaining: 17s\n",
            "735:\tlearn: 0.1605531\ttotal: 47.2s\tremaining: 16.9s\n",
            "736:\tlearn: 0.1605285\ttotal: 47.3s\tremaining: 16.9s\n",
            "737:\tlearn: 0.1604192\ttotal: 47.3s\tremaining: 16.8s\n",
            "738:\tlearn: 0.1603292\ttotal: 47.4s\tremaining: 16.7s\n",
            "739:\tlearn: 0.1603069\ttotal: 47.5s\tremaining: 16.7s\n",
            "740:\tlearn: 0.1602829\ttotal: 47.5s\tremaining: 16.6s\n",
            "741:\tlearn: 0.1602181\ttotal: 47.6s\tremaining: 16.6s\n",
            "742:\tlearn: 0.1601456\ttotal: 47.7s\tremaining: 16.5s\n",
            "743:\tlearn: 0.1601207\ttotal: 47.7s\tremaining: 16.4s\n",
            "744:\tlearn: 0.1600967\ttotal: 47.8s\tremaining: 16.4s\n",
            "745:\tlearn: 0.1600371\ttotal: 47.8s\tremaining: 16.3s\n",
            "746:\tlearn: 0.1599471\ttotal: 47.9s\tremaining: 16.2s\n",
            "747:\tlearn: 0.1599236\ttotal: 48s\tremaining: 16.2s\n",
            "748:\tlearn: 0.1598849\ttotal: 48s\tremaining: 16.1s\n",
            "749:\tlearn: 0.1597509\ttotal: 48.1s\tremaining: 16s\n",
            "750:\tlearn: 0.1597266\ttotal: 48.1s\tremaining: 16s\n",
            "751:\tlearn: 0.1596496\ttotal: 48.2s\tremaining: 15.9s\n",
            "752:\tlearn: 0.1595741\ttotal: 48.3s\tremaining: 15.8s\n",
            "753:\tlearn: 0.1595500\ttotal: 48.3s\tremaining: 15.8s\n",
            "754:\tlearn: 0.1595173\ttotal: 48.4s\tremaining: 15.7s\n",
            "755:\tlearn: 0.1594938\ttotal: 48.4s\tremaining: 15.6s\n",
            "756:\tlearn: 0.1594698\ttotal: 48.5s\tremaining: 15.6s\n",
            "757:\tlearn: 0.1594308\ttotal: 48.6s\tremaining: 15.5s\n",
            "758:\tlearn: 0.1594065\ttotal: 48.6s\tremaining: 15.4s\n",
            "759:\tlearn: 0.1593827\ttotal: 48.7s\tremaining: 15.4s\n",
            "760:\tlearn: 0.1593586\ttotal: 48.8s\tremaining: 15.3s\n",
            "761:\tlearn: 0.1593352\ttotal: 48.8s\tremaining: 15.3s\n",
            "762:\tlearn: 0.1593116\ttotal: 48.9s\tremaining: 15.2s\n",
            "763:\tlearn: 0.1592879\ttotal: 49s\tremaining: 15.1s\n",
            "764:\tlearn: 0.1592642\ttotal: 49s\tremaining: 15.1s\n",
            "765:\tlearn: 0.1592250\ttotal: 49.1s\tremaining: 15s\n",
            "766:\tlearn: 0.1591637\ttotal: 49.2s\tremaining: 14.9s\n",
            "767:\tlearn: 0.1591091\ttotal: 49.3s\tremaining: 14.9s\n",
            "768:\tlearn: 0.1590859\ttotal: 49.3s\tremaining: 14.8s\n",
            "769:\tlearn: 0.1590513\ttotal: 49.4s\tremaining: 14.8s\n",
            "770:\tlearn: 0.1590191\ttotal: 49.5s\tremaining: 14.7s\n",
            "771:\tlearn: 0.1589959\ttotal: 49.5s\tremaining: 14.6s\n",
            "772:\tlearn: 0.1589206\ttotal: 49.6s\tremaining: 14.6s\n",
            "773:\tlearn: 0.1588966\ttotal: 49.6s\tremaining: 14.5s\n",
            "774:\tlearn: 0.1588737\ttotal: 49.7s\tremaining: 14.4s\n",
            "775:\tlearn: 0.1588402\ttotal: 49.8s\tremaining: 14.4s\n",
            "776:\tlearn: 0.1587680\ttotal: 49.8s\tremaining: 14.3s\n",
            "777:\tlearn: 0.1587445\ttotal: 49.9s\tremaining: 14.2s\n",
            "778:\tlearn: 0.1587128\ttotal: 49.9s\tremaining: 14.2s\n",
            "779:\tlearn: 0.1586442\ttotal: 50s\tremaining: 14.1s\n",
            "780:\tlearn: 0.1585680\ttotal: 50.1s\tremaining: 14s\n",
            "781:\tlearn: 0.1585447\ttotal: 50.1s\tremaining: 14s\n",
            "782:\tlearn: 0.1585210\ttotal: 50.2s\tremaining: 13.9s\n",
            "783:\tlearn: 0.1584809\ttotal: 50.3s\tremaining: 13.8s\n",
            "784:\tlearn: 0.1584577\ttotal: 50.3s\tremaining: 13.8s\n",
            "785:\tlearn: 0.1584149\ttotal: 50.4s\tremaining: 13.7s\n",
            "786:\tlearn: 0.1583915\ttotal: 50.4s\tremaining: 13.7s\n",
            "787:\tlearn: 0.1583456\ttotal: 50.5s\tremaining: 13.6s\n",
            "788:\tlearn: 0.1582423\ttotal: 50.6s\tremaining: 13.5s\n",
            "789:\tlearn: 0.1582189\ttotal: 50.6s\tremaining: 13.5s\n",
            "790:\tlearn: 0.1581954\ttotal: 50.7s\tremaining: 13.4s\n",
            "791:\tlearn: 0.1581726\ttotal: 50.8s\tremaining: 13.3s\n",
            "792:\tlearn: 0.1581489\ttotal: 50.8s\tremaining: 13.3s\n",
            "793:\tlearn: 0.1581173\ttotal: 50.9s\tremaining: 13.2s\n",
            "794:\tlearn: 0.1580805\ttotal: 51s\tremaining: 13.1s\n",
            "795:\tlearn: 0.1580578\ttotal: 51s\tremaining: 13.1s\n",
            "796:\tlearn: 0.1579686\ttotal: 51.1s\tremaining: 13s\n",
            "797:\tlearn: 0.1578904\ttotal: 51.2s\tremaining: 13s\n",
            "798:\tlearn: 0.1578316\ttotal: 51.3s\tremaining: 12.9s\n",
            "799:\tlearn: 0.1578082\ttotal: 51.3s\tremaining: 12.8s\n",
            "800:\tlearn: 0.1577452\ttotal: 51.4s\tremaining: 12.8s\n",
            "801:\tlearn: 0.1577223\ttotal: 51.5s\tremaining: 12.7s\n",
            "802:\tlearn: 0.1576994\ttotal: 51.5s\tremaining: 12.6s\n",
            "803:\tlearn: 0.1576677\ttotal: 51.6s\tremaining: 12.6s\n",
            "804:\tlearn: 0.1576264\ttotal: 51.6s\tremaining: 12.5s\n",
            "805:\tlearn: 0.1576034\ttotal: 51.7s\tremaining: 12.4s\n",
            "806:\tlearn: 0.1575516\ttotal: 51.8s\tremaining: 12.4s\n",
            "807:\tlearn: 0.1575005\ttotal: 51.8s\tremaining: 12.3s\n",
            "808:\tlearn: 0.1574774\ttotal: 51.9s\tremaining: 12.3s\n",
            "809:\tlearn: 0.1574545\ttotal: 51.9s\tremaining: 12.2s\n",
            "810:\tlearn: 0.1574315\ttotal: 52s\tremaining: 12.1s\n",
            "811:\tlearn: 0.1573666\ttotal: 52.1s\tremaining: 12.1s\n",
            "812:\tlearn: 0.1573430\ttotal: 52.1s\tremaining: 12s\n",
            "813:\tlearn: 0.1572799\ttotal: 52.2s\tremaining: 11.9s\n",
            "814:\tlearn: 0.1572566\ttotal: 52.3s\tremaining: 11.9s\n",
            "815:\tlearn: 0.1571961\ttotal: 52.3s\tremaining: 11.8s\n",
            "816:\tlearn: 0.1571733\ttotal: 52.4s\tremaining: 11.7s\n",
            "817:\tlearn: 0.1571507\ttotal: 52.4s\tremaining: 11.7s\n",
            "818:\tlearn: 0.1571278\ttotal: 52.5s\tremaining: 11.6s\n",
            "819:\tlearn: 0.1570944\ttotal: 52.6s\tremaining: 11.5s\n",
            "820:\tlearn: 0.1570726\ttotal: 52.6s\tremaining: 11.5s\n",
            "821:\tlearn: 0.1569982\ttotal: 52.7s\tremaining: 11.4s\n",
            "822:\tlearn: 0.1569594\ttotal: 52.8s\tremaining: 11.3s\n",
            "823:\tlearn: 0.1569138\ttotal: 52.8s\tremaining: 11.3s\n",
            "824:\tlearn: 0.1568340\ttotal: 52.9s\tremaining: 11.2s\n",
            "825:\tlearn: 0.1568113\ttotal: 53s\tremaining: 11.2s\n",
            "826:\tlearn: 0.1567891\ttotal: 53s\tremaining: 11.1s\n",
            "827:\tlearn: 0.1567663\ttotal: 53.1s\tremaining: 11s\n",
            "828:\tlearn: 0.1566445\ttotal: 53.2s\tremaining: 11s\n",
            "829:\tlearn: 0.1565830\ttotal: 53.2s\tremaining: 10.9s\n",
            "830:\tlearn: 0.1564833\ttotal: 53.3s\tremaining: 10.8s\n",
            "831:\tlearn: 0.1564602\ttotal: 53.4s\tremaining: 10.8s\n",
            "832:\tlearn: 0.1564145\ttotal: 53.4s\tremaining: 10.7s\n",
            "833:\tlearn: 0.1563919\ttotal: 53.5s\tremaining: 10.6s\n",
            "834:\tlearn: 0.1563472\ttotal: 53.6s\tremaining: 10.6s\n",
            "835:\tlearn: 0.1563244\ttotal: 53.6s\tremaining: 10.5s\n",
            "836:\tlearn: 0.1562624\ttotal: 53.7s\tremaining: 10.5s\n",
            "837:\tlearn: 0.1561889\ttotal: 53.7s\tremaining: 10.4s\n",
            "838:\tlearn: 0.1561496\ttotal: 53.8s\tremaining: 10.3s\n",
            "839:\tlearn: 0.1560746\ttotal: 53.9s\tremaining: 10.3s\n",
            "840:\tlearn: 0.1560521\ttotal: 53.9s\tremaining: 10.2s\n",
            "841:\tlearn: 0.1560299\ttotal: 54s\tremaining: 10.1s\n",
            "842:\tlearn: 0.1560077\ttotal: 54s\tremaining: 10.1s\n",
            "843:\tlearn: 0.1559441\ttotal: 54.1s\tremaining: 10s\n",
            "844:\tlearn: 0.1558876\ttotal: 54.2s\tremaining: 9.93s\n",
            "845:\tlearn: 0.1558657\ttotal: 54.2s\tremaining: 9.87s\n",
            "846:\tlearn: 0.1558354\ttotal: 54.3s\tremaining: 9.81s\n",
            "847:\tlearn: 0.1557667\ttotal: 54.3s\tremaining: 9.74s\n",
            "848:\tlearn: 0.1557183\ttotal: 54.4s\tremaining: 9.68s\n",
            "849:\tlearn: 0.1556959\ttotal: 54.5s\tremaining: 9.61s\n",
            "850:\tlearn: 0.1556075\ttotal: 54.5s\tremaining: 9.55s\n",
            "851:\tlearn: 0.1555850\ttotal: 54.6s\tremaining: 9.48s\n",
            "852:\tlearn: 0.1555629\ttotal: 54.6s\tremaining: 9.42s\n",
            "853:\tlearn: 0.1554997\ttotal: 54.7s\tremaining: 9.35s\n",
            "854:\tlearn: 0.1554772\ttotal: 54.8s\tremaining: 9.29s\n",
            "855:\tlearn: 0.1554548\ttotal: 54.8s\tremaining: 9.22s\n",
            "856:\tlearn: 0.1554212\ttotal: 54.9s\tremaining: 9.16s\n",
            "857:\tlearn: 0.1553989\ttotal: 54.9s\tremaining: 9.09s\n",
            "858:\tlearn: 0.1553771\ttotal: 55s\tremaining: 9.03s\n",
            "859:\tlearn: 0.1553550\ttotal: 55.1s\tremaining: 8.96s\n",
            "860:\tlearn: 0.1552980\ttotal: 55.1s\tremaining: 8.9s\n",
            "861:\tlearn: 0.1552766\ttotal: 55.2s\tremaining: 8.83s\n",
            "862:\tlearn: 0.1552428\ttotal: 55.2s\tremaining: 8.77s\n",
            "863:\tlearn: 0.1552204\ttotal: 55.3s\tremaining: 8.71s\n",
            "864:\tlearn: 0.1551721\ttotal: 55.4s\tremaining: 8.64s\n",
            "865:\tlearn: 0.1551504\ttotal: 55.4s\tremaining: 8.58s\n",
            "866:\tlearn: 0.1551286\ttotal: 55.5s\tremaining: 8.51s\n",
            "867:\tlearn: 0.1551067\ttotal: 55.6s\tremaining: 8.45s\n",
            "868:\tlearn: 0.1550846\ttotal: 55.6s\tremaining: 8.38s\n",
            "869:\tlearn: 0.1550628\ttotal: 55.7s\tremaining: 8.32s\n",
            "870:\tlearn: 0.1550406\ttotal: 55.8s\tremaining: 8.26s\n",
            "871:\tlearn: 0.1549655\ttotal: 55.8s\tremaining: 8.19s\n",
            "872:\tlearn: 0.1548790\ttotal: 55.9s\tremaining: 8.13s\n",
            "873:\tlearn: 0.1548574\ttotal: 56s\tremaining: 8.07s\n",
            "874:\tlearn: 0.1548351\ttotal: 56s\tremaining: 8s\n",
            "875:\tlearn: 0.1547763\ttotal: 56.1s\tremaining: 7.94s\n",
            "876:\tlearn: 0.1547103\ttotal: 56.2s\tremaining: 7.88s\n",
            "877:\tlearn: 0.1546535\ttotal: 56.2s\tremaining: 7.81s\n",
            "878:\tlearn: 0.1546317\ttotal: 56.3s\tremaining: 7.75s\n",
            "879:\tlearn: 0.1546097\ttotal: 56.4s\tremaining: 7.69s\n",
            "880:\tlearn: 0.1545154\ttotal: 56.4s\tremaining: 7.62s\n",
            "881:\tlearn: 0.1544940\ttotal: 56.5s\tremaining: 7.56s\n",
            "882:\tlearn: 0.1544724\ttotal: 56.6s\tremaining: 7.5s\n",
            "883:\tlearn: 0.1544505\ttotal: 56.6s\tremaining: 7.43s\n",
            "884:\tlearn: 0.1544287\ttotal: 56.7s\tremaining: 7.37s\n",
            "885:\tlearn: 0.1543637\ttotal: 56.8s\tremaining: 7.3s\n",
            "886:\tlearn: 0.1543415\ttotal: 56.8s\tremaining: 7.24s\n",
            "887:\tlearn: 0.1542688\ttotal: 56.9s\tremaining: 7.18s\n",
            "888:\tlearn: 0.1542468\ttotal: 57s\tremaining: 7.12s\n",
            "889:\tlearn: 0.1542251\ttotal: 57.1s\tremaining: 7.05s\n",
            "890:\tlearn: 0.1541942\ttotal: 57.1s\tremaining: 6.99s\n",
            "891:\tlearn: 0.1541556\ttotal: 57.2s\tremaining: 6.92s\n",
            "892:\tlearn: 0.1540962\ttotal: 57.3s\tremaining: 6.86s\n",
            "893:\tlearn: 0.1540743\ttotal: 57.3s\tremaining: 6.8s\n",
            "894:\tlearn: 0.1539835\ttotal: 57.4s\tremaining: 6.73s\n",
            "895:\tlearn: 0.1539390\ttotal: 57.5s\tremaining: 6.67s\n",
            "896:\tlearn: 0.1539173\ttotal: 57.5s\tremaining: 6.61s\n",
            "897:\tlearn: 0.1538427\ttotal: 57.6s\tremaining: 6.54s\n",
            "898:\tlearn: 0.1538084\ttotal: 57.7s\tremaining: 6.48s\n",
            "899:\tlearn: 0.1537866\ttotal: 57.7s\tremaining: 6.41s\n",
            "900:\tlearn: 0.1537530\ttotal: 57.8s\tremaining: 6.35s\n",
            "901:\tlearn: 0.1537316\ttotal: 57.9s\tremaining: 6.29s\n",
            "902:\tlearn: 0.1537100\ttotal: 57.9s\tremaining: 6.22s\n",
            "903:\tlearn: 0.1536779\ttotal: 58s\tremaining: 6.16s\n",
            "904:\tlearn: 0.1536358\ttotal: 58.1s\tremaining: 6.09s\n",
            "905:\tlearn: 0.1535845\ttotal: 58.1s\tremaining: 6.03s\n",
            "906:\tlearn: 0.1535090\ttotal: 58.2s\tremaining: 5.97s\n",
            "907:\tlearn: 0.1534389\ttotal: 58.3s\tremaining: 5.9s\n",
            "908:\tlearn: 0.1534172\ttotal: 58.3s\tremaining: 5.84s\n",
            "909:\tlearn: 0.1533961\ttotal: 58.4s\tremaining: 5.78s\n",
            "910:\tlearn: 0.1533746\ttotal: 58.5s\tremaining: 5.71s\n",
            "911:\tlearn: 0.1532670\ttotal: 58.5s\tremaining: 5.65s\n",
            "912:\tlearn: 0.1532018\ttotal: 58.6s\tremaining: 5.58s\n",
            "913:\tlearn: 0.1531803\ttotal: 58.7s\tremaining: 5.52s\n",
            "914:\tlearn: 0.1531590\ttotal: 58.7s\tremaining: 5.46s\n",
            "915:\tlearn: 0.1530422\ttotal: 58.8s\tremaining: 5.39s\n",
            "916:\tlearn: 0.1530210\ttotal: 58.9s\tremaining: 5.33s\n",
            "917:\tlearn: 0.1530000\ttotal: 58.9s\tremaining: 5.26s\n",
            "918:\tlearn: 0.1529788\ttotal: 59s\tremaining: 5.2s\n",
            "919:\tlearn: 0.1529090\ttotal: 59.1s\tremaining: 5.14s\n",
            "920:\tlearn: 0.1528877\ttotal: 59.1s\tremaining: 5.07s\n",
            "921:\tlearn: 0.1528670\ttotal: 59.2s\tremaining: 5.01s\n",
            "922:\tlearn: 0.1528294\ttotal: 59.3s\tremaining: 4.94s\n",
            "923:\tlearn: 0.1527822\ttotal: 59.4s\tremaining: 4.88s\n",
            "924:\tlearn: 0.1527486\ttotal: 59.4s\tremaining: 4.82s\n",
            "925:\tlearn: 0.1527121\ttotal: 59.5s\tremaining: 4.75s\n",
            "926:\tlearn: 0.1526905\ttotal: 59.5s\tremaining: 4.69s\n",
            "927:\tlearn: 0.1526155\ttotal: 59.6s\tremaining: 4.63s\n",
            "928:\tlearn: 0.1525727\ttotal: 59.7s\tremaining: 4.56s\n",
            "929:\tlearn: 0.1525276\ttotal: 59.8s\tremaining: 4.5s\n",
            "930:\tlearn: 0.1525060\ttotal: 59.8s\tremaining: 4.43s\n",
            "931:\tlearn: 0.1524854\ttotal: 59.9s\tremaining: 4.37s\n",
            "932:\tlearn: 0.1524256\ttotal: 59.9s\tremaining: 4.3s\n",
            "933:\tlearn: 0.1524046\ttotal: 1m\tremaining: 4.24s\n",
            "934:\tlearn: 0.1523833\ttotal: 1m\tremaining: 4.18s\n",
            "935:\tlearn: 0.1523371\ttotal: 1m\tremaining: 4.11s\n",
            "936:\tlearn: 0.1523166\ttotal: 1m\tremaining: 4.05s\n",
            "937:\tlearn: 0.1522155\ttotal: 1m\tremaining: 3.98s\n",
            "938:\tlearn: 0.1521186\ttotal: 1m\tremaining: 3.92s\n",
            "939:\tlearn: 0.1520974\ttotal: 1m\tremaining: 3.86s\n",
            "940:\tlearn: 0.1520764\ttotal: 1m\tremaining: 3.79s\n",
            "941:\tlearn: 0.1520151\ttotal: 1m\tremaining: 3.73s\n",
            "942:\tlearn: 0.1519581\ttotal: 1m\tremaining: 3.66s\n",
            "943:\tlearn: 0.1518896\ttotal: 1m\tremaining: 3.6s\n",
            "944:\tlearn: 0.1518683\ttotal: 1m\tremaining: 3.54s\n",
            "945:\tlearn: 0.1518479\ttotal: 1m\tremaining: 3.47s\n",
            "946:\tlearn: 0.1518267\ttotal: 1m\tremaining: 3.41s\n",
            "947:\tlearn: 0.1518051\ttotal: 1m\tremaining: 3.34s\n",
            "948:\tlearn: 0.1517840\ttotal: 1m 1s\tremaining: 3.28s\n",
            "949:\tlearn: 0.1517637\ttotal: 1m 1s\tremaining: 3.21s\n",
            "950:\tlearn: 0.1517428\ttotal: 1m 1s\tremaining: 3.15s\n",
            "951:\tlearn: 0.1517221\ttotal: 1m 1s\tremaining: 3.09s\n",
            "952:\tlearn: 0.1517011\ttotal: 1m 1s\tremaining: 3.02s\n",
            "953:\tlearn: 0.1516807\ttotal: 1m 1s\tremaining: 2.96s\n",
            "954:\tlearn: 0.1515987\ttotal: 1m 1s\tremaining: 2.9s\n",
            "955:\tlearn: 0.1515775\ttotal: 1m 1s\tremaining: 2.83s\n",
            "956:\tlearn: 0.1515569\ttotal: 1m 1s\tremaining: 2.77s\n",
            "957:\tlearn: 0.1515363\ttotal: 1m 1s\tremaining: 2.7s\n",
            "958:\tlearn: 0.1515079\ttotal: 1m 1s\tremaining: 2.64s\n",
            "959:\tlearn: 0.1514875\ttotal: 1m 1s\tremaining: 2.57s\n",
            "960:\tlearn: 0.1514499\ttotal: 1m 1s\tremaining: 2.51s\n",
            "961:\tlearn: 0.1514293\ttotal: 1m 1s\tremaining: 2.44s\n",
            "962:\tlearn: 0.1514088\ttotal: 1m 1s\tremaining: 2.38s\n",
            "963:\tlearn: 0.1513881\ttotal: 1m 2s\tremaining: 2.32s\n",
            "964:\tlearn: 0.1513676\ttotal: 1m 2s\tremaining: 2.25s\n",
            "965:\tlearn: 0.1513084\ttotal: 1m 2s\tremaining: 2.19s\n",
            "966:\tlearn: 0.1512885\ttotal: 1m 2s\tremaining: 2.12s\n",
            "967:\tlearn: 0.1512677\ttotal: 1m 2s\tremaining: 2.06s\n",
            "968:\tlearn: 0.1512472\ttotal: 1m 2s\tremaining: 2s\n",
            "969:\tlearn: 0.1511767\ttotal: 1m 2s\tremaining: 1.93s\n",
            "970:\tlearn: 0.1511566\ttotal: 1m 2s\tremaining: 1.87s\n",
            "971:\tlearn: 0.1511359\ttotal: 1m 2s\tremaining: 1.8s\n",
            "972:\tlearn: 0.1511023\ttotal: 1m 2s\tremaining: 1.74s\n",
            "973:\tlearn: 0.1510578\ttotal: 1m 2s\tremaining: 1.67s\n",
            "974:\tlearn: 0.1510373\ttotal: 1m 2s\tremaining: 1.61s\n",
            "975:\tlearn: 0.1510164\ttotal: 1m 2s\tremaining: 1.54s\n",
            "976:\tlearn: 0.1509392\ttotal: 1m 2s\tremaining: 1.48s\n",
            "977:\tlearn: 0.1508790\ttotal: 1m 2s\tremaining: 1.42s\n",
            "978:\tlearn: 0.1508584\ttotal: 1m 3s\tremaining: 1.35s\n",
            "979:\tlearn: 0.1508381\ttotal: 1m 3s\tremaining: 1.29s\n",
            "980:\tlearn: 0.1508177\ttotal: 1m 3s\tremaining: 1.22s\n",
            "981:\tlearn: 0.1507979\ttotal: 1m 3s\tremaining: 1.16s\n",
            "982:\tlearn: 0.1507775\ttotal: 1m 3s\tremaining: 1.09s\n",
            "983:\tlearn: 0.1507574\ttotal: 1m 3s\tremaining: 1.03s\n",
            "984:\tlearn: 0.1507367\ttotal: 1m 3s\tremaining: 965ms\n",
            "985:\tlearn: 0.1507171\ttotal: 1m 3s\tremaining: 901ms\n",
            "986:\tlearn: 0.1506968\ttotal: 1m 3s\tremaining: 837ms\n",
            "987:\tlearn: 0.1506766\ttotal: 1m 3s\tremaining: 772ms\n",
            "988:\tlearn: 0.1506565\ttotal: 1m 3s\tremaining: 708ms\n",
            "989:\tlearn: 0.1506362\ttotal: 1m 3s\tremaining: 644ms\n",
            "990:\tlearn: 0.1506077\ttotal: 1m 3s\tremaining: 579ms\n",
            "991:\tlearn: 0.1505436\ttotal: 1m 3s\tremaining: 515ms\n",
            "992:\tlearn: 0.1505237\ttotal: 1m 3s\tremaining: 451ms\n",
            "993:\tlearn: 0.1504423\ttotal: 1m 3s\tremaining: 386ms\n",
            "994:\tlearn: 0.1504217\ttotal: 1m 4s\tremaining: 322ms\n",
            "995:\tlearn: 0.1503909\ttotal: 1m 4s\tremaining: 258ms\n",
            "996:\tlearn: 0.1503713\ttotal: 1m 4s\tremaining: 193ms\n",
            "997:\tlearn: 0.1503149\ttotal: 1m 4s\tremaining: 129ms\n",
            "998:\tlearn: 0.1502949\ttotal: 1m 4s\tremaining: 64.4ms\n",
            "999:\tlearn: 0.1502542\ttotal: 1m 4s\tremaining: 0us\n"
          ]
        }
      ]
    },
    {
      "cell_type": "code",
      "source": [
        "confusion_matrix(y1_teste,y_cat)"
      ],
      "metadata": {
        "colab": {
          "base_uri": "https://localhost:8080/"
        },
        "id": "raRdR-vCHW6D",
        "outputId": "bd53468b-e63d-49f1-ec1a-d6337c216c5c"
      },
      "execution_count": 56,
      "outputs": [
        {
          "output_type": "execute_result",
          "data": {
            "text/plain": [
              "array([[1786,  268],\n",
              "       [  25, 1948]])"
            ]
          },
          "metadata": {},
          "execution_count": 56
        }
      ]
    },
    {
      "cell_type": "code",
      "source": [
        "print('ACC',accuracy_score(y1_teste,y_cat))\n",
        "print('PRE',precision_score(y1_teste,y_cat))\n",
        "print('REC',recall_score(y1_teste,y_cat))"
      ],
      "metadata": {
        "colab": {
          "base_uri": "https://localhost:8080/"
        },
        "id": "iR95x6ruHcL7",
        "outputId": "f6bc9f19-adcf-4722-927a-1ccc54bbfce4"
      },
      "execution_count": 57,
      "outputs": [
        {
          "output_type": "stream",
          "name": "stdout",
          "text": [
            "ACC 0.9272411224236404\n",
            "PRE 0.8790613718411552\n",
            "REC 0.9873289406994424\n"
          ]
        }
      ]
    },
    {
      "cell_type": "code",
      "source": [
        "rid = RidgeClassifier()\n",
        "rid.fit(x1_treino,y1_treino)\n",
        "y_rid= rid.predict(x1_teste)"
      ],
      "metadata": {
        "id": "Lkkrqn-5fYKA"
      },
      "execution_count": 88,
      "outputs": []
    },
    {
      "cell_type": "code",
      "source": [
        "confusion_matrix(y1_teste,y_rid)"
      ],
      "metadata": {
        "colab": {
          "base_uri": "https://localhost:8080/"
        },
        "id": "KAPTl3UQfkpg",
        "outputId": "7b6a6baa-2ca7-48dd-ffd1-67852414dafc"
      },
      "execution_count": 89,
      "outputs": [
        {
          "output_type": "execute_result",
          "data": {
            "text/plain": [
              "array([[1838,  216],\n",
              "       [  58, 1915]])"
            ]
          },
          "metadata": {},
          "execution_count": 89
        }
      ]
    },
    {
      "cell_type": "code",
      "source": [
        "print('ACC',accuracy_score(y1_teste,y_rid))\n",
        "print('PRE',precision_score(y1_teste,y_rid))\n",
        "print('REC',recall_score(y1_teste,y_rid))"
      ],
      "metadata": {
        "colab": {
          "base_uri": "https://localhost:8080/"
        },
        "id": "QFf43FFtfois",
        "outputId": "91963c16-e465-4838-d1e6-89e4d59e578d"
      },
      "execution_count": 90,
      "outputs": [
        {
          "output_type": "stream",
          "name": "stdout",
          "text": [
            "ACC 0.9319592748944624\n",
            "PRE 0.8986391365556077\n",
            "REC 0.9706031424227065\n"
          ]
        }
      ]
    },
    {
      "cell_type": "markdown",
      "source": [
        "podemos ver que os melhores modelos, comparando as métricas, foram a regressão logistica, o extratree classifier e o svm co kernel linear."
      ],
      "metadata": {
        "id": "GK6DtC4CHjgx"
      }
    },
    {
      "cell_type": "code",
      "source": [
        "bag = BaggingClassifier(base_estimator=SVC(kernel='linear'),n_estimators=15)\n",
        "bag.fit(x1_treino,y1_treino)\n",
        "y_bag = bag.predict(x1_teste)"
      ],
      "metadata": {
        "id": "70zX6mhpS_eF"
      },
      "execution_count": 58,
      "outputs": []
    },
    {
      "cell_type": "code",
      "source": [
        "confusion_matrix(y1_teste,y_bag)"
      ],
      "metadata": {
        "colab": {
          "base_uri": "https://localhost:8080/"
        },
        "id": "hk7rIhaoTbCX",
        "outputId": "74c56cbc-ea17-47bd-b888-9b9e2d380cd5"
      },
      "execution_count": 59,
      "outputs": [
        {
          "output_type": "execute_result",
          "data": {
            "text/plain": [
              "array([[1887,  167],\n",
              "       [  68, 1905]])"
            ]
          },
          "metadata": {},
          "execution_count": 59
        }
      ]
    },
    {
      "cell_type": "code",
      "source": [
        "print('ACC',accuracy_score(y1_teste,y_bag))\n",
        "print('PRE',precision_score(y1_teste,y_bag))\n",
        "print('REC',recall_score(y1_teste,y_bag))"
      ],
      "metadata": {
        "colab": {
          "base_uri": "https://localhost:8080/"
        },
        "id": "hxT_ZgeNTvD-",
        "outputId": "d83334b8-6a2d-40f9-dc84-bdb5e64c66eb"
      },
      "execution_count": 60,
      "outputs": [
        {
          "output_type": "stream",
          "name": "stdout",
          "text": [
            "ACC 0.9416439036503601\n",
            "PRE 0.9194015444015444\n",
            "REC 0.9655347187024835\n"
          ]
        }
      ]
    },
    {
      "cell_type": "markdown",
      "source": [
        "Agora que obtivemos as metrica, escolheu-se a regressão logistica para melhorar o hiperparametro porque foi que obtiveram um dos melhores resultados."
      ],
      "metadata": {
        "id": "8YP1gCP0dp1X"
      }
    },
    {
      "cell_type": "code",
      "source": [
        "parametros = {'penalty':['l1','l2'],'dual':[True,False],'C':np.arange(0.1,1,0.1),\n",
        "              'max_iter':[100,110,120,130]}"
      ],
      "metadata": {
        "id": "1_pRbfC7clf6"
      },
      "execution_count": 84,
      "outputs": []
    },
    {
      "cell_type": "code",
      "source": [
        "grid = GridSearchCV(LogisticRegression(),param_grid=parametros).fit(x1_treino,y1_treino)"
      ],
      "metadata": {
        "colab": {
          "base_uri": "https://localhost:8080/"
        },
        "id": "-LCXokqcdcqK",
        "outputId": "4e992953-d124-43a5-d6dc-bec75a69dd96"
      },
      "execution_count": 85,
      "outputs": [
        {
          "output_type": "stream",
          "name": "stderr",
          "text": [
            "/usr/local/lib/python3.7/dist-packages/sklearn/model_selection/_validation.py:372: FitFailedWarning: \n",
            "540 fits failed out of a total of 720.\n",
            "The score on these train-test partitions for these parameters will be set to nan.\n",
            "If these failures are not expected, you can try to debug them by setting error_score='raise'.\n",
            "\n",
            "Below are more details about the failures:\n",
            "--------------------------------------------------------------------------------\n",
            "360 fits failed with the following error:\n",
            "Traceback (most recent call last):\n",
            "  File \"/usr/local/lib/python3.7/dist-packages/sklearn/model_selection/_validation.py\", line 680, in _fit_and_score\n",
            "    estimator.fit(X_train, y_train, **fit_params)\n",
            "  File \"/usr/local/lib/python3.7/dist-packages/sklearn/linear_model/_logistic.py\", line 1461, in fit\n",
            "    solver = _check_solver(self.solver, self.penalty, self.dual)\n",
            "  File \"/usr/local/lib/python3.7/dist-packages/sklearn/linear_model/_logistic.py\", line 449, in _check_solver\n",
            "    % (solver, penalty)\n",
            "ValueError: Solver lbfgs supports only 'l2' or 'none' penalties, got l1 penalty.\n",
            "\n",
            "--------------------------------------------------------------------------------\n",
            "180 fits failed with the following error:\n",
            "Traceback (most recent call last):\n",
            "  File \"/usr/local/lib/python3.7/dist-packages/sklearn/model_selection/_validation.py\", line 680, in _fit_and_score\n",
            "    estimator.fit(X_train, y_train, **fit_params)\n",
            "  File \"/usr/local/lib/python3.7/dist-packages/sklearn/linear_model/_logistic.py\", line 1461, in fit\n",
            "    solver = _check_solver(self.solver, self.penalty, self.dual)\n",
            "  File \"/usr/local/lib/python3.7/dist-packages/sklearn/linear_model/_logistic.py\", line 453, in _check_solver\n",
            "    \"Solver %s supports only dual=False, got dual=%s\" % (solver, dual)\n",
            "ValueError: Solver lbfgs supports only dual=False, got dual=True\n",
            "\n",
            "  warnings.warn(some_fits_failed_message, FitFailedWarning)\n",
            "/usr/local/lib/python3.7/dist-packages/sklearn/model_selection/_search.py:972: UserWarning: One or more of the test scores are non-finite: [       nan        nan        nan        nan        nan        nan\n",
            "        nan        nan        nan 0.91896926        nan 0.91896926\n",
            "        nan 0.91896926        nan 0.91896926        nan        nan\n",
            "        nan        nan        nan        nan        nan        nan\n",
            "        nan 0.92505433        nan 0.92505433        nan 0.92505433\n",
            "        nan 0.92505433        nan        nan        nan        nan\n",
            "        nan        nan        nan        nan        nan 0.92784849\n",
            "        nan 0.92784849        nan 0.92784849        nan 0.92784849\n",
            "        nan        nan        nan        nan        nan        nan\n",
            "        nan        nan        nan 0.93008382        nan 0.93008382\n",
            "        nan 0.93008382        nan 0.93008382        nan        nan\n",
            "        nan        nan        nan        nan        nan        nan\n",
            "        nan 0.93120149        nan 0.93120149        nan 0.93120149\n",
            "        nan 0.93120149        nan        nan        nan        nan\n",
            "        nan        nan        nan        nan        nan 0.93169823\n",
            "        nan 0.93169823        nan 0.93169823        nan 0.93169823\n",
            "        nan        nan        nan        nan        nan        nan\n",
            "        nan        nan        nan 0.93213288        nan 0.93213288\n",
            "        nan 0.93213288        nan 0.93213288        nan        nan\n",
            "        nan        nan        nan        nan        nan        nan\n",
            "        nan 0.93219497        nan 0.93219497        nan 0.93219497\n",
            "        nan 0.93219497        nan        nan        nan        nan\n",
            "        nan        nan        nan        nan        nan 0.93294008\n",
            "        nan 0.93294008        nan 0.93294008        nan 0.93294008]\n",
            "  category=UserWarning,\n"
          ]
        }
      ]
    },
    {
      "cell_type": "code",
      "source": [
        "grid.best_params_"
      ],
      "metadata": {
        "colab": {
          "base_uri": "https://localhost:8080/"
        },
        "id": "KwDf055Od6ok",
        "outputId": "110bbfdc-74e5-4628-95bf-91c0a81f74ad"
      },
      "execution_count": 86,
      "outputs": [
        {
          "output_type": "execute_result",
          "data": {
            "text/plain": [
              "{'C': 0.9, 'dual': False, 'max_iter': 100, 'penalty': 'l2'}"
            ]
          },
          "metadata": {},
          "execution_count": 86
        }
      ]
    },
    {
      "cell_type": "code",
      "source": [
        "lgg = LogisticRegression(C=0.9,dual=False)\n",
        "lgg.fit(x1_treino,y1_treino)\n",
        "y_lgg = lgg.predict(x1_teste)"
      ],
      "metadata": {
        "id": "uoMjc2OPeBTX"
      },
      "execution_count": 81,
      "outputs": []
    },
    {
      "cell_type": "code",
      "source": [
        "confusion_matrix(y1_teste,y_lgg)"
      ],
      "metadata": {
        "colab": {
          "base_uri": "https://localhost:8080/"
        },
        "id": "mPgiE_1teVe2",
        "outputId": "918c2779-88a1-4c16-f2ae-4934b9935f83"
      },
      "execution_count": 82,
      "outputs": [
        {
          "output_type": "execute_result",
          "data": {
            "text/plain": [
              "array([[1858,  196],\n",
              "       [  44, 1929]])"
            ]
          },
          "metadata": {},
          "execution_count": 82
        }
      ]
    },
    {
      "cell_type": "code",
      "source": [
        "print('ACC',accuracy_score(y1_teste,y_lgg))\n",
        "print('PRE',precision_score(y1_teste,y_lgg))\n",
        "print('REC',recall_score(y1_teste,y_lgg))"
      ],
      "metadata": {
        "colab": {
          "base_uri": "https://localhost:8080/"
        },
        "id": "l_fnCqAaeajv",
        "outputId": "8c38099d-9831-4589-8e3b-d966e814ed97"
      },
      "execution_count": 83,
      "outputs": [
        {
          "output_type": "stream",
          "name": "stdout",
          "text": [
            "ACC 0.9404022845790911\n",
            "PRE 0.9077647058823529\n",
            "REC 0.9776989356310187\n"
          ]
        }
      ]
    },
    {
      "cell_type": "markdown",
      "source": [
        "# Texto"
      ],
      "metadata": {
        "id": "Py_3fWbaHwr-"
      }
    },
    {
      "cell_type": "code",
      "source": [
        "x2_treino, x2_teste, y2_treino, y2_teste = train_test_split(x2,fake.label,test_size=0.20,random_state=42)"
      ],
      "metadata": {
        "id": "DrWvCZ_UHvwb"
      },
      "execution_count": 61,
      "outputs": []
    },
    {
      "cell_type": "code",
      "source": [
        "lg2 = LogisticRegression()\n",
        "lg2.fit(x2_treino,y2_treino)\n",
        "y_lg2 = lg2.predict(x2_teste)"
      ],
      "metadata": {
        "colab": {
          "base_uri": "https://localhost:8080/"
        },
        "id": "_fUxt-ShIDbd",
        "outputId": "10ce1c42-86d4-47f2-adea-cf685befae7d"
      },
      "execution_count": 62,
      "outputs": [
        {
          "output_type": "stream",
          "name": "stderr",
          "text": [
            "/usr/local/lib/python3.7/dist-packages/sklearn/linear_model/_logistic.py:818: ConvergenceWarning: lbfgs failed to converge (status=1):\n",
            "STOP: TOTAL NO. of ITERATIONS REACHED LIMIT.\n",
            "\n",
            "Increase the number of iterations (max_iter) or scale the data as shown in:\n",
            "    https://scikit-learn.org/stable/modules/preprocessing.html\n",
            "Please also refer to the documentation for alternative solver options:\n",
            "    https://scikit-learn.org/stable/modules/linear_model.html#logistic-regression\n",
            "  extra_warning_msg=_LOGISTIC_SOLVER_CONVERGENCE_MSG,\n"
          ]
        }
      ]
    },
    {
      "cell_type": "code",
      "source": [
        "confusion_matrix(y2_teste,y_lg2)"
      ],
      "metadata": {
        "colab": {
          "base_uri": "https://localhost:8080/"
        },
        "id": "TRDJUIvFIQzd",
        "outputId": "3b4b6a84-7888-4a74-8255-fd9f9eb3a2d3"
      },
      "execution_count": 63,
      "outputs": [
        {
          "output_type": "execute_result",
          "data": {
            "text/plain": [
              "array([[1947,  107],\n",
              "       [ 105, 1868]])"
            ]
          },
          "metadata": {},
          "execution_count": 63
        }
      ]
    },
    {
      "cell_type": "code",
      "source": [
        "print('ACC',accuracy_score(y1_teste,y_lg2))\n",
        "print('PRE',precision_score(y1_teste,y_lg2))\n",
        "print('REC',recall_score(y1_teste,y_lg2))"
      ],
      "metadata": {
        "colab": {
          "base_uri": "https://localhost:8080/"
        },
        "id": "3KZ-SNZxIXi2",
        "outputId": "e548e9e3-c5a6-4c6c-f0e3-be7fe9219bec"
      },
      "execution_count": 64,
      "outputs": [
        {
          "output_type": "stream",
          "name": "stdout",
          "text": [
            "ACC 0.9473553513781972\n",
            "PRE 0.9458227848101266\n",
            "REC 0.9467815509376584\n"
          ]
        }
      ]
    },
    {
      "cell_type": "code",
      "source": [
        "ex2 = ExtraTreesClassifier()\n",
        "ex2.fit(x2_treino,y2_treino)\n",
        "y_ex2 = ex2.predict(x2_teste)"
      ],
      "metadata": {
        "id": "z4OUL2scIjSk"
      },
      "execution_count": 65,
      "outputs": []
    },
    {
      "cell_type": "code",
      "source": [
        "confusion_matrix(y2_teste,y_ex2)"
      ],
      "metadata": {
        "colab": {
          "base_uri": "https://localhost:8080/"
        },
        "id": "o1lTU3viI3XI",
        "outputId": "c3e0e4b0-db35-459e-8ee8-083f417ba343"
      },
      "execution_count": 66,
      "outputs": [
        {
          "output_type": "execute_result",
          "data": {
            "text/plain": [
              "array([[1965,   89],\n",
              "       [ 360, 1613]])"
            ]
          },
          "metadata": {},
          "execution_count": 66
        }
      ]
    },
    {
      "cell_type": "code",
      "source": [
        "print('ACC',accuracy_score(y1_teste,y_ex2))\n",
        "print('PRE',precision_score(y1_teste,y_ex2))\n",
        "print('REC',recall_score(y1_teste,y_ex2))"
      ],
      "metadata": {
        "colab": {
          "base_uri": "https://localhost:8080/"
        },
        "id": "9rBo92z1JlRm",
        "outputId": "c64e517b-6497-46d8-f309-c4de8c362261"
      },
      "execution_count": 67,
      "outputs": [
        {
          "output_type": "stream",
          "name": "stdout",
          "text": [
            "ACC 0.8885026074000497\n",
            "PRE 0.9477085781433607\n",
            "REC 0.8175367460719716\n"
          ]
        }
      ]
    },
    {
      "cell_type": "code",
      "source": [
        "svm2 = SVC(kernel='linear')\n",
        "svm2.fit(x2_treino,y2_treino)\n",
        "y_svm2 = svm2.predict(x2_teste)"
      ],
      "metadata": {
        "id": "Qv2B3lPRJxk-"
      },
      "execution_count": 68,
      "outputs": []
    },
    {
      "cell_type": "code",
      "source": [
        "confusion_matrix(y2_teste,y_svm2)"
      ],
      "metadata": {
        "colab": {
          "base_uri": "https://localhost:8080/"
        },
        "id": "he2jB9NrKCPh",
        "outputId": "d06061dd-3258-432f-dbcd-3f4673023a97"
      },
      "execution_count": 69,
      "outputs": [
        {
          "output_type": "execute_result",
          "data": {
            "text/plain": [
              "array([[1930,  124],\n",
              "       [ 134, 1839]])"
            ]
          },
          "metadata": {},
          "execution_count": 69
        }
      ]
    },
    {
      "cell_type": "code",
      "source": [
        "print('ACC',accuracy_score(y1_teste,y_svm2))\n",
        "print('PRE',precision_score(y1_teste,y_svm2))\n",
        "print('REC',recall_score(y1_teste,y_svm2))"
      ],
      "metadata": {
        "colab": {
          "base_uri": "https://localhost:8080/"
        },
        "id": "YbrxIz--Kwj0",
        "outputId": "d3d02019-7e69-45b9-934f-65a618f9802b"
      },
      "execution_count": 70,
      "outputs": [
        {
          "output_type": "stream",
          "name": "stdout",
          "text": [
            "ACC 0.9359324559225229\n",
            "PRE 0.9368313805399898\n",
            "REC 0.9320831221490117\n"
          ]
        }
      ]
    },
    {
      "cell_type": "code",
      "source": [
        "per2 = Perceptron()\n",
        "per2.fit(x2_treino,y2_treino)\n",
        "y_per2 = per2.predict(x2_teste)"
      ],
      "metadata": {
        "id": "NONuLCy7MR6T"
      },
      "execution_count": 71,
      "outputs": []
    },
    {
      "cell_type": "code",
      "source": [
        "confusion_matrix(y2_teste,y_per2)"
      ],
      "metadata": {
        "colab": {
          "base_uri": "https://localhost:8080/"
        },
        "id": "MBnReQLvMjRE",
        "outputId": "d7974850-c8cc-4f87-9afd-994ac518b770"
      },
      "execution_count": 72,
      "outputs": [
        {
          "output_type": "execute_result",
          "data": {
            "text/plain": [
              "array([[1978,   76],\n",
              "       [ 116, 1857]])"
            ]
          },
          "metadata": {},
          "execution_count": 72
        }
      ]
    },
    {
      "cell_type": "code",
      "source": [
        "print('ACC',accuracy_score(y1_teste,y_per2))\n",
        "print('PRE',precision_score(y1_teste,y_per2))\n",
        "print('REC',recall_score(y1_teste,y_per2))"
      ],
      "metadata": {
        "colab": {
          "base_uri": "https://localhost:8080/"
        },
        "id": "bR_4ypRVMp3X",
        "outputId": "e9aff645-4f6f-4e4d-a71a-c140ade38a1f"
      },
      "execution_count": 73,
      "outputs": [
        {
          "output_type": "stream",
          "name": "stdout",
          "text": [
            "ACC 0.9523218276632729\n",
            "PRE 0.9606828763579928\n",
            "REC 0.941206284845413\n"
          ]
        }
      ]
    },
    {
      "cell_type": "code",
      "source": [
        "mlpc = MLPClassifier()\n",
        "mlpc.fit(x2_treino,y2_treino)\n",
        "y_mlpc = mlpc.predict(x2_teste)\n"
      ],
      "metadata": {
        "id": "1uPboq4HNKT7"
      },
      "execution_count": 74,
      "outputs": []
    },
    {
      "cell_type": "code",
      "source": [
        "confusion_matrix(y2_teste,y_mlpc)"
      ],
      "metadata": {
        "colab": {
          "base_uri": "https://localhost:8080/"
        },
        "id": "1O4iig-dRJGn",
        "outputId": "cc3eff14-c603-446d-8e97-cb6157c44bfb"
      },
      "execution_count": 75,
      "outputs": [
        {
          "output_type": "execute_result",
          "data": {
            "text/plain": [
              "array([[1960,   94],\n",
              "       [  81, 1892]])"
            ]
          },
          "metadata": {},
          "execution_count": 75
        }
      ]
    },
    {
      "cell_type": "code",
      "source": [
        "print('ACC',accuracy_score(y1_teste,y_mlpc))\n",
        "print('PRE',precision_score(y1_teste,y_mlpc))\n",
        "print('REC',recall_score(y1_teste,y_mlpc))"
      ],
      "metadata": {
        "colab": {
          "base_uri": "https://localhost:8080/"
        },
        "id": "mb5wvhORRQxM",
        "outputId": "a33c0a23-f5a7-4b70-c08e-68c9857fa972"
      },
      "execution_count": 76,
      "outputs": [
        {
          "output_type": "stream",
          "name": "stdout",
          "text": [
            "ACC 0.9565433325055873\n",
            "PRE 0.9526686807653575\n",
            "REC 0.9589457678661936\n"
          ]
        }
      ]
    }
  ]
}